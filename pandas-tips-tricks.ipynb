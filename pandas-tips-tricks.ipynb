{
 "cells": [
  {
   "cell_type": "code",
   "execution_count": 1,
   "metadata": {},
   "outputs": [],
   "source": [
    "%matplotlib inline"
   ]
  },
  {
   "cell_type": "markdown",
   "metadata": {},
   "source": [
    "* [5 lesser-known Pandas tricks](https://towardsdatascience.com/5-lesser-known-pandas-tricks-e8ab1dd21431)\n",
    "* [exploratory data analysis](https://towardsdatascience.com/exploratory-data-analysis-with-pandas-508a5e8a5964)\n",
    "* [examples of BAD & BETTER (timing-wise) Pandas code](https://towardsdatascience.com/how-not-to-write-pandas-code-ef88599c6e8f)\n",
    "* [display customizations](https://towardsdatascience.com/become-a-pandas-power-user-with-these-display-customizations-6d3a5a5885c1)\n",
    "* [pandas 1.0 features](https://towardsdatascience.com/5-new-features-in-pandas-1-0-you-should-know-about-fc31c83e396b)"
   ]
  },
  {
   "cell_type": "code",
   "execution_count": 2,
   "metadata": {},
   "outputs": [],
   "source": [
    "import pandas as pd"
   ]
  },
  {
   "cell_type": "markdown",
   "metadata": {},
   "source": [
    "## Lesser-Known Pandas Tricks"
   ]
  },
  {
   "cell_type": "markdown",
   "metadata": {},
   "source": [
    "### Date Ranges"
   ]
  },
  {
   "cell_type": "code",
   "execution_count": 3,
   "metadata": {},
   "outputs": [
    {
     "data": {
      "text/plain": [
       "DatetimeIndex(['2019-01-01', '2019-01-02', '2019-01-03', '2019-01-04',\n",
       "               '2019-01-05', '2019-01-06', '2019-01-07', '2019-01-08',\n",
       "               '2019-01-09', '2019-01-10', '2019-01-11', '2019-01-12'],\n",
       "              dtype='datetime64[ns]', freq='D')"
      ]
     },
     "execution_count": 3,
     "metadata": {},
     "output_type": "execute_result"
    }
   ],
   "source": [
    "# date ranges - returning a date range, incremented by days\n",
    "date_from, date_to = \"2019-01-01\", \"2019-01-12\"\n",
    "date_range = pd.date_range(date_from,date_to,freq=\"D\"); date_range"
   ]
  },
  {
   "cell_type": "code",
   "execution_count": 4,
   "metadata": {},
   "outputs": [
    {
     "name": "stdout",
     "output_type": "stream",
     "text": [
      "1. date_from: 2019-01-01, date_to: 2019-01-02\n",
      "2. date_from: 2019-01-02, date_to: 2019-01-03\n",
      "3. date_from: 2019-01-03, date_to: 2019-01-04\n",
      "4. date_from: 2019-01-04, date_to: 2019-01-05\n",
      "5. date_from: 2019-01-05, date_to: 2019-01-06\n",
      "6. date_from: 2019-01-06, date_to: 2019-01-07\n",
      "7. date_from: 2019-01-07, date_to: 2019-01-08\n",
      "8. date_from: 2019-01-08, date_to: 2019-01-09\n",
      "9. date_from: 2019-01-09, date_to: 2019-01-10\n",
      "10. date_from: 2019-01-10, date_to: 2019-01-11\n",
      "11. date_from: 2019-01-11, date_to: 2019-01-12\n"
     ]
    }
   ],
   "source": [
    "# transform range into start & end dates\n",
    "for i, (date_from, date_to) in enumerate(zip(date_range[:-1],\n",
    "                                            date_range[1:]), 1):\n",
    "    date_from = date_from.date().isoformat()\n",
    "    date_to   = date_to.date().isoformat()\n",
    "    print(\"%d. date_from: %s, date_to: %s\" % (i, date_from, date_to))"
   ]
  },
  {
   "cell_type": "markdown",
   "metadata": {},
   "source": [
    "### merge with indicator\n",
    "* common usage: aligning rows from two dbs"
   ]
  },
  {
   "cell_type": "code",
   "execution_count": 5,
   "metadata": {},
   "outputs": [
    {
     "data": {
      "text/html": [
       "<div>\n",
       "<style scoped>\n",
       "    .dataframe tbody tr th:only-of-type {\n",
       "        vertical-align: middle;\n",
       "    }\n",
       "\n",
       "    .dataframe tbody tr th {\n",
       "        vertical-align: top;\n",
       "    }\n",
       "\n",
       "    .dataframe thead th {\n",
       "        text-align: right;\n",
       "    }\n",
       "</style>\n",
       "<table border=\"1\" class=\"dataframe\">\n",
       "  <thead>\n",
       "    <tr style=\"text-align: right;\">\n",
       "      <th></th>\n",
       "      <th>key</th>\n",
       "      <th>value_l</th>\n",
       "      <th>value_r</th>\n",
       "      <th>_merge</th>\n",
       "    </tr>\n",
       "  </thead>\n",
       "  <tbody>\n",
       "    <tr>\n",
       "      <th>0</th>\n",
       "      <td>key1</td>\n",
       "      <td>1</td>\n",
       "      <td>1.0</td>\n",
       "      <td>both</td>\n",
       "    </tr>\n",
       "    <tr>\n",
       "      <th>1</th>\n",
       "      <td>key2</td>\n",
       "      <td>2</td>\n",
       "      <td>2.0</td>\n",
       "      <td>both</td>\n",
       "    </tr>\n",
       "    <tr>\n",
       "      <th>2</th>\n",
       "      <td>key3</td>\n",
       "      <td>3</td>\n",
       "      <td>3.0</td>\n",
       "      <td>both</td>\n",
       "    </tr>\n",
       "    <tr>\n",
       "      <th>3</th>\n",
       "      <td>key4</td>\n",
       "      <td>4</td>\n",
       "      <td>NaN</td>\n",
       "      <td>left_only</td>\n",
       "    </tr>\n",
       "  </tbody>\n",
       "</table>\n",
       "</div>"
      ],
      "text/plain": [
       "    key  value_l  value_r     _merge\n",
       "0  key1        1      1.0       both\n",
       "1  key2        2      2.0       both\n",
       "2  key3        3      3.0       both\n",
       "3  key4        4      NaN  left_only"
      ]
     },
     "execution_count": 5,
     "metadata": {},
     "output_type": "execute_result"
    }
   ],
   "source": [
    "left = pd.DataFrame(\n",
    "    {\"key\": [\"key1\", \"key2\", \"key3\", \"key4\"], \"value_l\": [1, 2, 3, 4]})\n",
    "\n",
    "right = pd.DataFrame(\n",
    "    {\"key\": [\"key3\", \"key2\", \"key1\", \"key6\"], \"value_r\": [3, 2, 1, 6]})\n",
    "\n",
    "df_merge = left.merge(right, on='key', how='left', indicator=True)\n",
    "df_merge"
   ]
  },
  {
   "cell_type": "code",
   "execution_count": 6,
   "metadata": {},
   "outputs": [
    {
     "data": {
      "text/plain": [
       "both          3\n",
       "left_only     1\n",
       "right_only    0\n",
       "Name: _merge, dtype: int64"
      ]
     },
     "execution_count": 6,
     "metadata": {},
     "output_type": "execute_result"
    }
   ],
   "source": [
    "# _merge column can be used to check if there is \n",
    "# an expected number of rows with values from both DFs\n",
    "\n",
    "df_merge._merge.value_counts()"
   ]
  },
  {
   "cell_type": "markdown",
   "metadata": {},
   "source": [
    "### Nearest merges with merge_asof\n",
    "* enables merging DFs by the nearest key."
   ]
  },
  {
   "cell_type": "code",
   "execution_count": 7,
   "metadata": {},
   "outputs": [
    {
     "data": {
      "text/html": [
       "<div>\n",
       "<style scoped>\n",
       "    .dataframe tbody tr th:only-of-type {\n",
       "        vertical-align: middle;\n",
       "    }\n",
       "\n",
       "    .dataframe tbody tr th {\n",
       "        vertical-align: top;\n",
       "    }\n",
       "\n",
       "    .dataframe thead th {\n",
       "        text-align: right;\n",
       "    }\n",
       "</style>\n",
       "<table border=\"1\" class=\"dataframe\">\n",
       "  <thead>\n",
       "    <tr style=\"text-align: right;\">\n",
       "      <th></th>\n",
       "      <th>timestamp</th>\n",
       "      <th>ticker</th>\n",
       "      <th>bid</th>\n",
       "      <th>ask</th>\n",
       "    </tr>\n",
       "  </thead>\n",
       "  <tbody>\n",
       "    <tr>\n",
       "      <th>0</th>\n",
       "      <td>2016-05-25 13:30:00.023</td>\n",
       "      <td>GOOG</td>\n",
       "      <td>720.50</td>\n",
       "      <td>720.93</td>\n",
       "    </tr>\n",
       "    <tr>\n",
       "      <th>1</th>\n",
       "      <td>2016-05-25 13:30:00.023</td>\n",
       "      <td>MSFT</td>\n",
       "      <td>51.95</td>\n",
       "      <td>51.96</td>\n",
       "    </tr>\n",
       "    <tr>\n",
       "      <th>2</th>\n",
       "      <td>2016-05-25 13:30:00.030</td>\n",
       "      <td>MSFT</td>\n",
       "      <td>51.97</td>\n",
       "      <td>51.98</td>\n",
       "    </tr>\n",
       "    <tr>\n",
       "      <th>3</th>\n",
       "      <td>2016-05-25 13:30:00.041</td>\n",
       "      <td>MSFT</td>\n",
       "      <td>51.99</td>\n",
       "      <td>52.00</td>\n",
       "    </tr>\n",
       "    <tr>\n",
       "      <th>4</th>\n",
       "      <td>2016-05-25 13:30:00.048</td>\n",
       "      <td>GOOG</td>\n",
       "      <td>720.50</td>\n",
       "      <td>720.93</td>\n",
       "    </tr>\n",
       "    <tr>\n",
       "      <th>5</th>\n",
       "      <td>2016-05-25 13:30:00.049</td>\n",
       "      <td>AAPL</td>\n",
       "      <td>97.99</td>\n",
       "      <td>98.01</td>\n",
       "    </tr>\n",
       "    <tr>\n",
       "      <th>6</th>\n",
       "      <td>2016-05-25 13:30:00.072</td>\n",
       "      <td>GOOG</td>\n",
       "      <td>720.50</td>\n",
       "      <td>720.88</td>\n",
       "    </tr>\n",
       "    <tr>\n",
       "      <th>7</th>\n",
       "      <td>2016-05-25 13:30:00.075</td>\n",
       "      <td>MSFT</td>\n",
       "      <td>52.01</td>\n",
       "      <td>52.03</td>\n",
       "    </tr>\n",
       "  </tbody>\n",
       "</table>\n",
       "</div>"
      ],
      "text/plain": [
       "                timestamp ticker     bid     ask\n",
       "0 2016-05-25 13:30:00.023   GOOG  720.50  720.93\n",
       "1 2016-05-25 13:30:00.023   MSFT   51.95   51.96\n",
       "2 2016-05-25 13:30:00.030   MSFT   51.97   51.98\n",
       "3 2016-05-25 13:30:00.041   MSFT   51.99   52.00\n",
       "4 2016-05-25 13:30:00.048   GOOG  720.50  720.93\n",
       "5 2016-05-25 13:30:00.049   AAPL   97.99   98.01\n",
       "6 2016-05-25 13:30:00.072   GOOG  720.50  720.88\n",
       "7 2016-05-25 13:30:00.075   MSFT   52.01   52.03"
      ]
     },
     "execution_count": 7,
     "metadata": {},
     "output_type": "execute_result"
    }
   ],
   "source": [
    "quotes = pd.DataFrame(\n",
    "    [\n",
    "        [\"2016-05-25 13:30:00.023\", \"GOOG\", 720.50, 720.93],\n",
    "        [\"2016-05-25 13:30:00.023\", \"MSFT\", 51.95, 51.96],\n",
    "        [\"2016-05-25 13:30:00.030\", \"MSFT\", 51.97, 51.98],\n",
    "        [\"2016-05-25 13:30:00.041\", \"MSFT\", 51.99, 52.00],\n",
    "        [\"2016-05-25 13:30:00.048\", \"GOOG\", 720.50, 720.93],\n",
    "        [\"2016-05-25 13:30:00.049\", \"AAPL\", 97.99, 98.01],\n",
    "        [\"2016-05-25 13:30:00.072\", \"GOOG\", 720.50, 720.88],\n",
    "        [\"2016-05-25 13:30:00.075\", \"MSFT\", 52.01, 52.03],\n",
    "    ],\n",
    "    columns=[\"timestamp\", \"ticker\", \"bid\", \"ask\"],\n",
    ")\n",
    "quotes['timestamp'] = pd.to_datetime(quotes['timestamp'])\n",
    "quotes"
   ]
  },
  {
   "cell_type": "code",
   "execution_count": 8,
   "metadata": {},
   "outputs": [
    {
     "data": {
      "text/html": [
       "<div>\n",
       "<style scoped>\n",
       "    .dataframe tbody tr th:only-of-type {\n",
       "        vertical-align: middle;\n",
       "    }\n",
       "\n",
       "    .dataframe tbody tr th {\n",
       "        vertical-align: top;\n",
       "    }\n",
       "\n",
       "    .dataframe thead th {\n",
       "        text-align: right;\n",
       "    }\n",
       "</style>\n",
       "<table border=\"1\" class=\"dataframe\">\n",
       "  <thead>\n",
       "    <tr style=\"text-align: right;\">\n",
       "      <th></th>\n",
       "      <th>timestamp</th>\n",
       "      <th>ticker</th>\n",
       "      <th>price</th>\n",
       "      <th>quantity</th>\n",
       "    </tr>\n",
       "  </thead>\n",
       "  <tbody>\n",
       "    <tr>\n",
       "      <th>0</th>\n",
       "      <td>2016-05-25 13:30:00.023</td>\n",
       "      <td>MSFT</td>\n",
       "      <td>51.95</td>\n",
       "      <td>75</td>\n",
       "    </tr>\n",
       "    <tr>\n",
       "      <th>1</th>\n",
       "      <td>2016-05-25 13:30:00.038</td>\n",
       "      <td>MSFT</td>\n",
       "      <td>51.95</td>\n",
       "      <td>155</td>\n",
       "    </tr>\n",
       "    <tr>\n",
       "      <th>2</th>\n",
       "      <td>2016-05-25 13:30:00.048</td>\n",
       "      <td>GOOG</td>\n",
       "      <td>720.77</td>\n",
       "      <td>100</td>\n",
       "    </tr>\n",
       "    <tr>\n",
       "      <th>3</th>\n",
       "      <td>2016-05-25 13:30:00.048</td>\n",
       "      <td>GOOG</td>\n",
       "      <td>720.92</td>\n",
       "      <td>100</td>\n",
       "    </tr>\n",
       "    <tr>\n",
       "      <th>4</th>\n",
       "      <td>2016-05-25 13:30:00.048</td>\n",
       "      <td>AAPL</td>\n",
       "      <td>98.00</td>\n",
       "      <td>100</td>\n",
       "    </tr>\n",
       "  </tbody>\n",
       "</table>\n",
       "</div>"
      ],
      "text/plain": [
       "                timestamp ticker   price  quantity\n",
       "0 2016-05-25 13:30:00.023   MSFT   51.95        75\n",
       "1 2016-05-25 13:30:00.038   MSFT   51.95       155\n",
       "2 2016-05-25 13:30:00.048   GOOG  720.77       100\n",
       "3 2016-05-25 13:30:00.048   GOOG  720.92       100\n",
       "4 2016-05-25 13:30:00.048   AAPL   98.00       100"
      ]
     },
     "execution_count": 8,
     "metadata": {},
     "output_type": "execute_result"
    }
   ],
   "source": [
    "trades = pd.DataFrame(\n",
    "    [\n",
    "        [\"2016-05-25 13:30:00.023\", \"MSFT\", 51.95, 75],\n",
    "        [\"2016-05-25 13:30:00.038\", \"MSFT\", 51.95, 155],\n",
    "        [\"2016-05-25 13:30:00.048\", \"GOOG\", 720.77, 100],\n",
    "        [\"2016-05-25 13:30:00.048\", \"GOOG\", 720.92, 100],\n",
    "        [\"2016-05-25 13:30:00.048\", \"AAPL\", 98.00, 100],\n",
    "    ],\n",
    "    columns=[\"timestamp\", \"ticker\", \"price\", \"quantity\"],\n",
    ")\n",
    "trades['timestamp'] = pd.to_datetime(trades['timestamp'])\n",
    "trades"
   ]
  },
  {
   "cell_type": "code",
   "execution_count": 9,
   "metadata": {},
   "outputs": [
    {
     "data": {
      "text/html": [
       "<div>\n",
       "<style scoped>\n",
       "    .dataframe tbody tr th:only-of-type {\n",
       "        vertical-align: middle;\n",
       "    }\n",
       "\n",
       "    .dataframe tbody tr th {\n",
       "        vertical-align: top;\n",
       "    }\n",
       "\n",
       "    .dataframe thead th {\n",
       "        text-align: right;\n",
       "    }\n",
       "</style>\n",
       "<table border=\"1\" class=\"dataframe\">\n",
       "  <thead>\n",
       "    <tr style=\"text-align: right;\">\n",
       "      <th></th>\n",
       "      <th>timestamp</th>\n",
       "      <th>ticker</th>\n",
       "      <th>price</th>\n",
       "      <th>quantity</th>\n",
       "      <th>bid</th>\n",
       "      <th>ask</th>\n",
       "    </tr>\n",
       "  </thead>\n",
       "  <tbody>\n",
       "    <tr>\n",
       "      <th>0</th>\n",
       "      <td>2016-05-25 13:30:00.023</td>\n",
       "      <td>MSFT</td>\n",
       "      <td>51.95</td>\n",
       "      <td>75</td>\n",
       "      <td>51.95</td>\n",
       "      <td>51.96</td>\n",
       "    </tr>\n",
       "    <tr>\n",
       "      <th>1</th>\n",
       "      <td>2016-05-25 13:30:00.038</td>\n",
       "      <td>MSFT</td>\n",
       "      <td>51.95</td>\n",
       "      <td>155</td>\n",
       "      <td>51.97</td>\n",
       "      <td>51.98</td>\n",
       "    </tr>\n",
       "    <tr>\n",
       "      <th>2</th>\n",
       "      <td>2016-05-25 13:30:00.048</td>\n",
       "      <td>GOOG</td>\n",
       "      <td>720.77</td>\n",
       "      <td>100</td>\n",
       "      <td>720.50</td>\n",
       "      <td>720.93</td>\n",
       "    </tr>\n",
       "    <tr>\n",
       "      <th>3</th>\n",
       "      <td>2016-05-25 13:30:00.048</td>\n",
       "      <td>GOOG</td>\n",
       "      <td>720.92</td>\n",
       "      <td>100</td>\n",
       "      <td>720.50</td>\n",
       "      <td>720.93</td>\n",
       "    </tr>\n",
       "    <tr>\n",
       "      <th>4</th>\n",
       "      <td>2016-05-25 13:30:00.048</td>\n",
       "      <td>AAPL</td>\n",
       "      <td>98.00</td>\n",
       "      <td>100</td>\n",
       "      <td>NaN</td>\n",
       "      <td>NaN</td>\n",
       "    </tr>\n",
       "  </tbody>\n",
       "</table>\n",
       "</div>"
      ],
      "text/plain": [
       "                timestamp ticker   price  quantity     bid     ask\n",
       "0 2016-05-25 13:30:00.023   MSFT   51.95        75   51.95   51.96\n",
       "1 2016-05-25 13:30:00.038   MSFT   51.95       155   51.97   51.98\n",
       "2 2016-05-25 13:30:00.048   GOOG  720.77       100  720.50  720.93\n",
       "3 2016-05-25 13:30:00.048   GOOG  720.92       100  720.50  720.93\n",
       "4 2016-05-25 13:30:00.048   AAPL   98.00       100     NaN     NaN"
      ]
     },
     "execution_count": 9,
     "metadata": {},
     "output_type": "execute_result"
    }
   ],
   "source": [
    "# merge trades & quotes by tickers (last quote can be 10ms behind trade)\n",
    "# if quote is >10ms behind trade, or quote doesn't exist,\n",
    "# bid & ask for that quote will be null.\n",
    "\n",
    "pd.merge_asof(trades, \n",
    "              quotes, \n",
    "              on=\"timestamp\", \n",
    "              by='ticker', \n",
    "              tolerance=pd.Timedelta('10ms'), \n",
    "              direction='backward')"
   ]
  },
  {
   "cell_type": "markdown",
   "metadata": {},
   "source": [
    "### Create an Excel report\n",
    "* using pandas with XlsxWriter library\n",
    "* no more saving to CSV then formatting in excel"
   ]
  },
  {
   "cell_type": "code",
   "execution_count": 10,
   "metadata": {},
   "outputs": [
    {
     "name": "stderr",
     "output_type": "stream",
     "text": [
      "/home/bjpcjp/.local/lib/python3.6/site-packages/ipykernel_launcher.py:1: FutureWarning: The pandas.np module is deprecated and will be removed from pandas in a future version. Import numpy directly instead\n",
      "  \"\"\"Entry point for launching an IPython kernel.\n"
     ]
    }
   ],
   "source": [
    "df = pd.DataFrame(pd.np.array(\n",
    "    [[1, 2, 3], [4, 5, 6], [7, 8, 9]]), \n",
    "    columns=[\"a\", \"b\", \"c\"])"
   ]
  },
  {
   "cell_type": "code",
   "execution_count": 11,
   "metadata": {},
   "outputs": [],
   "source": [
    "import xlsxwriter"
   ]
  },
  {
   "cell_type": "code",
   "execution_count": 12,
   "metadata": {},
   "outputs": [],
   "source": [
    "report_name = 'example_report.xlsx'\n",
    "sheet_name = 'Sheet1'\n",
    "writer = pd.ExcelWriter(report_name, engine='xlsxwriter')\n",
    "df.to_excel(writer, sheet_name=sheet_name, index=False)\n",
    "writer.save()"
   ]
  },
  {
   "cell_type": "code",
   "execution_count": 13,
   "metadata": {},
   "outputs": [
    {
     "name": "stdout",
     "output_type": "stream",
     "text": [
      "2019-12-23-few-gotchas-with-pandas.ipynb  random_data.csv  Untitled.ipynb\n",
      "example_report.xlsx\t\t\t  random_data.gz\n"
     ]
    }
   ],
   "source": [
    "!ls "
   ]
  },
  {
   "cell_type": "markdown",
   "metadata": {},
   "source": [
    "### Add charts to Excel report\n",
    "* in this case: line chart"
   ]
  },
  {
   "cell_type": "code",
   "execution_count": 14,
   "metadata": {},
   "outputs": [],
   "source": [
    "workbook = writer.book\n",
    "worksheet = writer.sheets[sheet_name]"
   ]
  },
  {
   "cell_type": "code",
   "execution_count": 15,
   "metadata": {},
   "outputs": [],
   "source": [
    "# create a chart line object\n",
    "chart = workbook.add_chart({'type': 'line'})"
   ]
  },
  {
   "cell_type": "code",
   "execution_count": 16,
   "metadata": {},
   "outputs": [],
   "source": [
    "# configure the series of the chart from the spreadsheet\n",
    "# using a list of values instead of category/value formulas:\n",
    "#     [sheetname, first_row, first_col, last_row, last_col]\n",
    "chart.add_series({\n",
    "    'categories': [sheet_name, 1, 0, 3, 0],\n",
    "    'values':     [sheet_name, 1, 1, 3, 1],\n",
    "})"
   ]
  },
  {
   "cell_type": "code",
   "execution_count": 17,
   "metadata": {},
   "outputs": [],
   "source": [
    "# configure the chart axes\n",
    "chart.set_x_axis({'name': 'Index', 'position_axis': 'on_tick'})\n",
    "chart.set_y_axis({'name': 'Value', 'major_gridlines': {'visible': False}})"
   ]
  },
  {
   "cell_type": "code",
   "execution_count": 18,
   "metadata": {},
   "outputs": [],
   "source": [
    "# place the chart on the worksheet\n",
    "worksheet.insert_chart('E2', chart)"
   ]
  },
  {
   "cell_type": "code",
   "execution_count": 19,
   "metadata": {},
   "outputs": [],
   "source": [
    "# output the excel file\n",
    "writer.save()"
   ]
  },
  {
   "cell_type": "markdown",
   "metadata": {},
   "source": [
    "### Saving disk space\n",
    "* pandas can read & write compressed datasets."
   ]
  },
  {
   "cell_type": "code",
   "execution_count": 20,
   "metadata": {},
   "outputs": [
    {
     "name": "stderr",
     "output_type": "stream",
     "text": [
      "/home/bjpcjp/.local/lib/python3.6/site-packages/ipykernel_launcher.py:2: FutureWarning: The pandas.np module is deprecated and will be removed from pandas in a future version. Import numpy directly instead\n",
      "  \n"
     ]
    }
   ],
   "source": [
    "# create big DF with random numbers\n",
    "df = pd.DataFrame(pd.np.random.randn(50000,300))"
   ]
  },
  {
   "cell_type": "code",
   "execution_count": 21,
   "metadata": {},
   "outputs": [],
   "source": [
    "# if saved as CSV, this would be ~300MB\n",
    "df.to_csv('random_data.csv', index=False)"
   ]
  },
  {
   "cell_type": "code",
   "execution_count": 22,
   "metadata": {},
   "outputs": [],
   "source": [
    "# reduce to ~136MB with gzip\n",
    "df.to_csv('random_data.gz',compression='gzip',index=False)"
   ]
  },
  {
   "cell_type": "code",
   "execution_count": 23,
   "metadata": {},
   "outputs": [],
   "source": [
    "# reading gzipped data back\n",
    "df = pd.read_csv('random_data.gz')"
   ]
  },
  {
   "cell_type": "markdown",
   "metadata": {},
   "source": [
    "## Exploratory Data Analysis"
   ]
  },
  {
   "cell_type": "markdown",
   "metadata": {},
   "source": [
    "### Setup\n",
    "* DF with 5 cols, 1000 rows\n",
    "* attributes: \n",
    "    * a1, a2 = random samples, Gaussian; \n",
    "    * a3 = random samples from (0,1,2,3,4)\n",
    "* targets:\n",
    "    * y1 = numbers evenly spaced, log scale, 0..1\n",
    "    * y2 = random integers, (0,1)"
   ]
  },
  {
   "cell_type": "code",
   "execution_count": 24,
   "metadata": {},
   "outputs": [
    {
     "name": "stderr",
     "output_type": "stream",
     "text": [
      "/home/bjpcjp/.local/lib/python3.6/site-packages/ipykernel_launcher.py:6: FutureWarning: The pandas.np module is deprecated and will be removed from pandas in a future version. Import numpy directly instead\n",
      "  \n",
      "/home/bjpcjp/.local/lib/python3.6/site-packages/ipykernel_launcher.py:7: FutureWarning: The pandas.np module is deprecated and will be removed from pandas in a future version. Import numpy directly instead\n",
      "  import sys\n",
      "/home/bjpcjp/.local/lib/python3.6/site-packages/ipykernel_launcher.py:8: FutureWarning: The pandas.np module is deprecated and will be removed from pandas in a future version. Import numpy directly instead\n",
      "  \n",
      "/home/bjpcjp/.local/lib/python3.6/site-packages/ipykernel_launcher.py:9: FutureWarning: The pandas.np module is deprecated and will be removed from pandas in a future version. Import numpy directly instead\n",
      "  if __name__ == '__main__':\n",
      "/home/bjpcjp/.local/lib/python3.6/site-packages/ipykernel_launcher.py:10: FutureWarning: The pandas.np module is deprecated and will be removed from pandas in a future version. Import numpy directly instead\n",
      "  # Remove the CWD from sys.path while we load stuff.\n"
     ]
    }
   ],
   "source": [
    "mu1, sigma1 = 0, 0.1\n",
    "mu2, sigma2 = 0.2, 0.2\n",
    "n = 1000\n",
    "df = pd.DataFrame(\n",
    "    {\n",
    "        \"a1\": pd.np.random.normal(mu1, sigma1, n),\n",
    "        \"a2\": pd.np.random.normal(mu2, sigma2, n),\n",
    "        \"a3\": pd.np.random.randint(0, 5, n),\n",
    "        \"y1\": pd.np.logspace(0, 1, num=n),\n",
    "        \"y2\": pd.np.random.randint(0, 2, n),\n",
    "    }\n",
    ")"
   ]
  },
  {
   "cell_type": "code",
   "execution_count": 25,
   "metadata": {},
   "outputs": [
    {
     "data": {
      "text/html": [
       "<div>\n",
       "<style scoped>\n",
       "    .dataframe tbody tr th:only-of-type {\n",
       "        vertical-align: middle;\n",
       "    }\n",
       "\n",
       "    .dataframe tbody tr th {\n",
       "        vertical-align: top;\n",
       "    }\n",
       "\n",
       "    .dataframe thead th {\n",
       "        text-align: right;\n",
       "    }\n",
       "</style>\n",
       "<table border=\"1\" class=\"dataframe\">\n",
       "  <thead>\n",
       "    <tr style=\"text-align: right;\">\n",
       "      <th></th>\n",
       "      <th>index</th>\n",
       "      <th>a1</th>\n",
       "      <th>a2</th>\n",
       "      <th>a3</th>\n",
       "      <th>y1</th>\n",
       "      <th>y2</th>\n",
       "    </tr>\n",
       "  </thead>\n",
       "  <tbody>\n",
       "    <tr>\n",
       "      <th>0</th>\n",
       "      <td>0</td>\n",
       "      <td>-0.039574</td>\n",
       "      <td>0.003674</td>\n",
       "      <td>4</td>\n",
       "      <td>1.000000</td>\n",
       "      <td>1</td>\n",
       "    </tr>\n",
       "    <tr>\n",
       "      <th>1</th>\n",
       "      <td>1</td>\n",
       "      <td>-0.024764</td>\n",
       "      <td>-0.061462</td>\n",
       "      <td>0</td>\n",
       "      <td>1.002308</td>\n",
       "      <td>0</td>\n",
       "    </tr>\n",
       "    <tr>\n",
       "      <th>2</th>\n",
       "      <td>2</td>\n",
       "      <td>0.172589</td>\n",
       "      <td>0.167711</td>\n",
       "      <td>1</td>\n",
       "      <td>1.004620</td>\n",
       "      <td>1</td>\n",
       "    </tr>\n",
       "    <tr>\n",
       "      <th>3</th>\n",
       "      <td>3</td>\n",
       "      <td>-0.191414</td>\n",
       "      <td>-0.038227</td>\n",
       "      <td>2</td>\n",
       "      <td>1.006939</td>\n",
       "      <td>1</td>\n",
       "    </tr>\n",
       "    <tr>\n",
       "      <th>4</th>\n",
       "      <td>4</td>\n",
       "      <td>-0.025469</td>\n",
       "      <td>0.079676</td>\n",
       "      <td>4</td>\n",
       "      <td>1.009262</td>\n",
       "      <td>0</td>\n",
       "    </tr>\n",
       "    <tr>\n",
       "      <th>...</th>\n",
       "      <td>...</td>\n",
       "      <td>...</td>\n",
       "      <td>...</td>\n",
       "      <td>...</td>\n",
       "      <td>...</td>\n",
       "      <td>...</td>\n",
       "    </tr>\n",
       "    <tr>\n",
       "      <th>995</th>\n",
       "      <td>995</td>\n",
       "      <td>-0.070311</td>\n",
       "      <td>0.345125</td>\n",
       "      <td>4</td>\n",
       "      <td>9.908228</td>\n",
       "      <td>0</td>\n",
       "    </tr>\n",
       "    <tr>\n",
       "      <th>996</th>\n",
       "      <td>996</td>\n",
       "      <td>0.028984</td>\n",
       "      <td>0.220479</td>\n",
       "      <td>2</td>\n",
       "      <td>9.931092</td>\n",
       "      <td>0</td>\n",
       "    </tr>\n",
       "    <tr>\n",
       "      <th>997</th>\n",
       "      <td>997</td>\n",
       "      <td>0.041607</td>\n",
       "      <td>-0.203080</td>\n",
       "      <td>1</td>\n",
       "      <td>9.954008</td>\n",
       "      <td>1</td>\n",
       "    </tr>\n",
       "    <tr>\n",
       "      <th>998</th>\n",
       "      <td>998</td>\n",
       "      <td>0.100529</td>\n",
       "      <td>0.205416</td>\n",
       "      <td>4</td>\n",
       "      <td>9.976978</td>\n",
       "      <td>0</td>\n",
       "    </tr>\n",
       "    <tr>\n",
       "      <th>999</th>\n",
       "      <td>999</td>\n",
       "      <td>-0.097242</td>\n",
       "      <td>0.284146</td>\n",
       "      <td>1</td>\n",
       "      <td>10.000000</td>\n",
       "      <td>0</td>\n",
       "    </tr>\n",
       "  </tbody>\n",
       "</table>\n",
       "<p>1000 rows × 6 columns</p>\n",
       "</div>"
      ],
      "text/plain": [
       "     index        a1        a2  a3         y1  y2\n",
       "0        0 -0.039574  0.003674   4   1.000000   1\n",
       "1        1 -0.024764 -0.061462   0   1.002308   0\n",
       "2        2  0.172589  0.167711   1   1.004620   1\n",
       "3        3 -0.191414 -0.038227   2   1.006939   1\n",
       "4        4 -0.025469  0.079676   4   1.009262   0\n",
       "..     ...       ...       ...  ..        ...  ..\n",
       "995    995 -0.070311  0.345125   4   9.908228   0\n",
       "996    996  0.028984  0.220479   2   9.931092   0\n",
       "997    997  0.041607 -0.203080   1   9.954008   1\n",
       "998    998  0.100529  0.205416   4   9.976978   0\n",
       "999    999 -0.097242  0.284146   1  10.000000   0\n",
       "\n",
       "[1000 rows x 6 columns]"
      ]
     },
     "execution_count": 25,
     "metadata": {},
     "output_type": "execute_result"
    }
   ],
   "source": [
    "# reset index = adds index col\n",
    "df.reset_index(inplace=True)\n",
    "df"
   ]
  },
  {
   "cell_type": "markdown",
   "metadata": {},
   "source": [
    "### Plotting setup\n",
    "* Pandas.plot returns matplotlib.axes.Axes or numpy.ndarray\n",
    "* add horiz & vert red line to aid visualization"
   ]
  },
  {
   "cell_type": "code",
   "execution_count": 26,
   "metadata": {},
   "outputs": [
    {
     "data": {
      "text/plain": [
       "<matplotlib.lines.Line2D at 0x7fe7c636bc18>"
      ]
     },
     "execution_count": 26,
     "metadata": {},
     "output_type": "execute_result"
    },
    {
     "data": {
      "image/png": "[encoded data removed]",
      "text/plain": [
       "<Figure size 432x288 with 1 Axes>"
      ]
     },
     "metadata": {
      "needs_background": "light"
     },
     "output_type": "display_data"
    }
   ],
   "source": [
    "ax = df.y1.plot()\n",
    "ax.axhline(6, color=\"red\", linestyle=\"--\")\n",
    "ax.axvline(775, color=\"red\", linestyle=\"--\")"
   ]
  },
  {
   "cell_type": "code",
   "execution_count": 27,
   "metadata": {},
   "outputs": [
    {
     "data": {
      "text/plain": [
       "<matplotlib.axes._subplots.AxesSubplot at 0x7fe7f54ccc88>"
      ]
     },
     "execution_count": 27,
     "metadata": {},
     "output_type": "execute_result"
    },
    {
     "data": {
      "image/png": "[encoded data removed]",
      "text/plain": [
       "<Figure size 1008x504 with 4 Axes>"
      ]
     },
     "metadata": {
      "needs_background": "light"
     },
     "output_type": "display_data"
    }
   ],
   "source": [
    "# customize axes\n",
    "import matplotlib as mpl\n",
    "fig, ax = mpl.pyplot.subplots(2, 2, figsize=(14,7))\n",
    "df.plot(x=\"index\", y=\"y1\", ax=ax[0, 0])\n",
    "df.plot.scatter(x=\"index\", y=\"y2\", ax=ax[0, 1])\n",
    "df.plot.scatter(x=\"index\", y=\"a3\", ax=ax[1, 0])\n",
    "df.plot(x=\"index\", y=\"a1\", ax=ax[1, 1])"
   ]
  },
  {
   "cell_type": "markdown",
   "metadata": {},
   "source": [
    "### Histograms"
   ]
  },
  {
   "cell_type": "code",
   "execution_count": 28,
   "metadata": {},
   "outputs": [
    {
     "data": {
      "text/plain": [
       "<matplotlib.axes._subplots.AxesSubplot at 0x7fe7f53ba470>"
      ]
     },
     "execution_count": 28,
     "metadata": {},
     "output_type": "execute_result"
    },
    {
     "data": {
      "image/png": "[encoded data removed]",
      "text/plain": [
       "<Figure size 432x288 with 1 Axes>"
      ]
     },
     "metadata": {
      "needs_background": "light"
     },
     "output_type": "display_data"
    }
   ],
   "source": [
    "# stacked histograms - enables comparison of multiple distributions on single chart\n",
    "df[[\"a1\",\"a2\"]].plot(bins=30, kind=\"hist\")"
   ]
  },
  {
   "cell_type": "code",
   "execution_count": 29,
   "metadata": {},
   "outputs": [
    {
     "data": {
      "text/plain": [
       "array([<matplotlib.axes._subplots.AxesSubplot object at 0x7fe7f53f97b8>,\n",
       "       <matplotlib.axes._subplots.AxesSubplot object at 0x7fe7c3091f60>],\n",
       "      dtype=object)"
      ]
     },
     "execution_count": 29,
     "metadata": {},
     "output_type": "execute_result"
    },
    {
     "data": {
      "image/png": "[encoded data removed]",
      "text/plain": [
       "<Figure size 432x288 with 2 Axes>"
      ]
     },
     "metadata": {
      "needs_background": "light"
     },
     "output_type": "display_data"
    }
   ],
   "source": [
    "# separate plots using subplots=True\n",
    "df[[\"a1\", \"a2\"]].plot(bins=30, kind=\"hist\", subplots=True)"
   ]
  },
  {
   "cell_type": "markdown",
   "metadata": {},
   "source": [
    "### Probability Density Function (PDF)\n",
    "* measures relative likelihood of a sample equaling a random variable value\n",
    "* Pandas *density=1* argument doesn't return a PDF because y-axis is not 0:1 scale\n",
    "    * [numpy doc](https://docs.scipy.org/doc/numpy/reference/generated/numpy.histogram.html): sum of histogram values != 1 unless unity-width bins are chosen.\n"
   ]
  },
  {
   "cell_type": "code",
   "execution_count": 30,
   "metadata": {},
   "outputs": [
    {
     "data": {
      "text/plain": [
       "<matplotlib.axes._subplots.AxesSubplot at 0x7fe7c2f429b0>"
      ]
     },
     "execution_count": 30,
     "metadata": {},
     "output_type": "execute_result"
    },
    {
     "data": {
      "image/png": "[encoded data removed]",
      "text/plain": [
       "<Figure size 432x288 with 1 Axes>"
      ]
     },
     "metadata": {
      "needs_background": "light"
     },
     "output_type": "display_data"
    }
   ],
   "source": [
    "df.a1.hist(bins=30, density=1)"
   ]
  },
  {
   "cell_type": "code",
   "execution_count": 31,
   "metadata": {},
   "outputs": [
    {
     "name": "stderr",
     "output_type": "stream",
     "text": [
      "/home/bjpcjp/.local/lib/python3.6/site-packages/ipykernel_launcher.py:2: FutureWarning: The pandas.np module is deprecated and will be removed from pandas in a future version. Import numpy directly instead\n",
      "  \n"
     ]
    },
    {
     "data": {
      "text/plain": [
       "<matplotlib.axes._subplots.AxesSubplot at 0x7fe7c2f1d6d8>"
      ]
     },
     "execution_count": 31,
     "metadata": {},
     "output_type": "execute_result"
    },
    {
     "data": {
      "image/png": "[encoded data removed]",
      "text/plain": [
       "<Figure size 432x288 with 1 Axes>"
      ]
     },
     "metadata": {
      "needs_background": "light"
     },
     "output_type": "display_data"
    }
   ],
   "source": [
    "# use weights argument to return a PDF for a variable\n",
    "weights = pd.np.ones_like(df.a1.values) / len(df.a1.values)\n",
    "df.a1.hist(bins=30, weights=weights)"
   ]
  },
  {
   "cell_type": "markdown",
   "metadata": {},
   "source": [
    "### Cume distribution function (CDF)\n",
    "* counts cume #observations for all bins, up to a specified bin."
   ]
  },
  {
   "cell_type": "code",
   "execution_count": 32,
   "metadata": {},
   "outputs": [
    {
     "data": {
      "text/plain": [
       "<matplotlib.axes._subplots.AxesSubplot at 0x7fe7c2dc6f60>"
      ]
     },
     "execution_count": 32,
     "metadata": {},
     "output_type": "execute_result"
    },
    {
     "data": {
      "image/png": "[encoded data removed]",
      "text/plain": [
       "<Figure size 432x288 with 1 Axes>"
      ]
     },
     "metadata": {
      "needs_background": "light"
     },
     "output_type": "display_data"
    }
   ],
   "source": [
    "df.a1.hist(bins=30, cumulative=True)"
   ]
  },
  {
   "cell_type": "markdown",
   "metadata": {},
   "source": [
    "### Plots for groupings"
   ]
  },
  {
   "cell_type": "code",
   "execution_count": 33,
   "metadata": {},
   "outputs": [
    {
     "data": {
      "text/plain": [
       "array([<matplotlib.axes._subplots.AxesSubplot object at 0x7fe7c2cf5f28>,\n",
       "       <matplotlib.axes._subplots.AxesSubplot object at 0x7fe7c2d21a20>],\n",
       "      dtype=object)"
      ]
     },
     "execution_count": 33,
     "metadata": {},
     "output_type": "execute_result"
    },
    {
     "data": {
      "image/png": "[encoded data removed]",
      "text/plain": [
       "<Figure size 432x288 with 2 Axes>"
      ]
     },
     "metadata": {
      "needs_background": "light"
     },
     "output_type": "display_data"
    }
   ],
   "source": [
    "# separate distributions of a1, a2 by y2 (not much diff - randomly gen'd data)\n",
    "df[['a1','a2']].hist(by=df.y2)"
   ]
  },
  {
   "cell_type": "code",
   "execution_count": 34,
   "metadata": {},
   "outputs": [
    {
     "data": {
      "text/plain": [
       "array([<matplotlib.axes._subplots.AxesSubplot object at 0x7fe7c2bf3da0>,\n",
       "       <matplotlib.axes._subplots.AxesSubplot object at 0x7fe7c2bb0780>],\n",
       "      dtype=object)"
      ]
     },
     "execution_count": 34,
     "metadata": {},
     "output_type": "execute_result"
    },
    {
     "data": {
      "image/png": "[encoded data removed]",
      "text/plain": [
       "<Figure size 432x288 with 2 Axes>"
      ]
     },
     "metadata": {
      "needs_background": "light"
     },
     "output_type": "display_data"
    }
   ],
   "source": [
    "# same for line plots\n",
    "df[['a1','a2']].plot(by=df.y2, subplots=True)"
   ]
  },
  {
   "cell_type": "markdown",
   "metadata": {},
   "source": [
    "### Dummy variables\n",
    "* sometimes needed due to ML algorithms not able to use multivariate attributes (like a3)\n",
    "* solve this by binarizing the column"
   ]
  },
  {
   "cell_type": "code",
   "execution_count": 35,
   "metadata": {},
   "outputs": [
    {
     "data": {
      "text/plain": [
       "0    4\n",
       "1    0\n",
       "2    1\n",
       "3    2\n",
       "4    4\n",
       "Name: a3, dtype: int64"
      ]
     },
     "execution_count": 35,
     "metadata": {},
     "output_type": "execute_result"
    }
   ],
   "source": [
    "df.a3.head()"
   ]
  },
  {
   "cell_type": "code",
   "execution_count": 36,
   "metadata": {},
   "outputs": [
    {
     "data": {
      "text/html": [
       "<div>\n",
       "<style scoped>\n",
       "    .dataframe tbody tr th:only-of-type {\n",
       "        vertical-align: middle;\n",
       "    }\n",
       "\n",
       "    .dataframe tbody tr th {\n",
       "        vertical-align: top;\n",
       "    }\n",
       "\n",
       "    .dataframe thead th {\n",
       "        text-align: right;\n",
       "    }\n",
       "</style>\n",
       "<table border=\"1\" class=\"dataframe\">\n",
       "  <thead>\n",
       "    <tr style=\"text-align: right;\">\n",
       "      <th></th>\n",
       "      <th>a3__0</th>\n",
       "      <th>a3__1</th>\n",
       "      <th>a3__2</th>\n",
       "      <th>a3__3</th>\n",
       "      <th>a3__4</th>\n",
       "    </tr>\n",
       "  </thead>\n",
       "  <tbody>\n",
       "    <tr>\n",
       "      <th>0</th>\n",
       "      <td>0</td>\n",
       "      <td>0</td>\n",
       "      <td>0</td>\n",
       "      <td>0</td>\n",
       "      <td>1</td>\n",
       "    </tr>\n",
       "    <tr>\n",
       "      <th>1</th>\n",
       "      <td>1</td>\n",
       "      <td>0</td>\n",
       "      <td>0</td>\n",
       "      <td>0</td>\n",
       "      <td>0</td>\n",
       "    </tr>\n",
       "    <tr>\n",
       "      <th>2</th>\n",
       "      <td>0</td>\n",
       "      <td>1</td>\n",
       "      <td>0</td>\n",
       "      <td>0</td>\n",
       "      <td>0</td>\n",
       "    </tr>\n",
       "    <tr>\n",
       "      <th>3</th>\n",
       "      <td>0</td>\n",
       "      <td>0</td>\n",
       "      <td>1</td>\n",
       "      <td>0</td>\n",
       "      <td>0</td>\n",
       "    </tr>\n",
       "    <tr>\n",
       "      <th>4</th>\n",
       "      <td>0</td>\n",
       "      <td>0</td>\n",
       "      <td>0</td>\n",
       "      <td>0</td>\n",
       "      <td>1</td>\n",
       "    </tr>\n",
       "  </tbody>\n",
       "</table>\n",
       "</div>"
      ],
      "text/plain": [
       "   a3__0  a3__1  a3__2  a3__3  a3__4\n",
       "0      0      0      0      0      1\n",
       "1      1      0      0      0      0\n",
       "2      0      1      0      0      0\n",
       "3      0      0      1      0      0\n",
       "4      0      0      0      0      1"
      ]
     },
     "execution_count": 36,
     "metadata": {},
     "output_type": "execute_result"
    }
   ],
   "source": [
    "df_a4_dummy = pd.get_dummies(df.a3, prefix='a3_')\n",
    "df_a4_dummy.head()"
   ]
  },
  {
   "cell_type": "code",
   "execution_count": 37,
   "metadata": {},
   "outputs": [
    {
     "data": {
      "text/html": [
       "<div>\n",
       "<style scoped>\n",
       "    .dataframe tbody tr th:only-of-type {\n",
       "        vertical-align: middle;\n",
       "    }\n",
       "\n",
       "    .dataframe tbody tr th {\n",
       "        vertical-align: top;\n",
       "    }\n",
       "\n",
       "    .dataframe thead th {\n",
       "        text-align: right;\n",
       "    }\n",
       "</style>\n",
       "<table border=\"1\" class=\"dataframe\">\n",
       "  <thead>\n",
       "    <tr style=\"text-align: right;\">\n",
       "      <th></th>\n",
       "      <th>a3__1</th>\n",
       "      <th>a3__2</th>\n",
       "      <th>a3__3</th>\n",
       "      <th>a3__4</th>\n",
       "    </tr>\n",
       "  </thead>\n",
       "  <tbody>\n",
       "    <tr>\n",
       "      <th>0</th>\n",
       "      <td>0</td>\n",
       "      <td>0</td>\n",
       "      <td>0</td>\n",
       "      <td>1</td>\n",
       "    </tr>\n",
       "    <tr>\n",
       "      <th>1</th>\n",
       "      <td>0</td>\n",
       "      <td>0</td>\n",
       "      <td>0</td>\n",
       "      <td>0</td>\n",
       "    </tr>\n",
       "    <tr>\n",
       "      <th>2</th>\n",
       "      <td>1</td>\n",
       "      <td>0</td>\n",
       "      <td>0</td>\n",
       "      <td>0</td>\n",
       "    </tr>\n",
       "    <tr>\n",
       "      <th>3</th>\n",
       "      <td>0</td>\n",
       "      <td>1</td>\n",
       "      <td>0</td>\n",
       "      <td>0</td>\n",
       "    </tr>\n",
       "    <tr>\n",
       "      <th>4</th>\n",
       "      <td>0</td>\n",
       "      <td>0</td>\n",
       "      <td>0</td>\n",
       "      <td>1</td>\n",
       "    </tr>\n",
       "  </tbody>\n",
       "</table>\n",
       "</div>"
      ],
      "text/plain": [
       "   a3__1  a3__2  a3__3  a3__4\n",
       "0      0      0      0      1\n",
       "1      0      0      0      0\n",
       "2      1      0      0      0\n",
       "3      0      1      0      0\n",
       "4      0      0      0      1"
      ]
     },
     "execution_count": 37,
     "metadata": {},
     "output_type": "execute_result"
    }
   ],
   "source": [
    "# get_dummies also allows dropping a column to avoid storing redundant info\n",
    "pd.get_dummies(df.a3, prefix=\"a3_\", drop_first=True).head()"
   ]
  },
  {
   "cell_type": "markdown",
   "metadata": {},
   "source": [
    "### Line fitting"
   ]
  },
  {
   "cell_type": "code",
   "execution_count": 38,
   "metadata": {},
   "outputs": [
    {
     "data": {
      "text/plain": [
       "<matplotlib.axes._subplots.AxesSubplot at 0x7fe7c2b44160>"
      ]
     },
     "execution_count": 38,
     "metadata": {},
     "output_type": "execute_result"
    },
    {
     "data": {
      "image/png": "[encoded data removed]",
      "text/plain": [
       "<Figure size 432x288 with 1 Axes>"
      ]
     },
     "metadata": {
      "needs_background": "light"
     },
     "output_type": "display_data"
    }
   ],
   "source": [
    "df.plot.scatter(x='index',y='y1',s=1)"
   ]
  },
  {
   "cell_type": "code",
   "execution_count": 39,
   "metadata": {},
   "outputs": [
    {
     "name": "stderr",
     "output_type": "stream",
     "text": [
      "/home/bjpcjp/.local/lib/python3.6/site-packages/ipykernel_launcher.py:3: FutureWarning: The pandas.np module is deprecated and will be removed from pandas in a future version. Import numpy directly instead\n",
      "  This is separate from the ipykernel package so we can avoid doing imports until\n",
      "/home/bjpcjp/.local/lib/python3.6/site-packages/ipykernel_launcher.py:4: FutureWarning: The pandas.np module is deprecated and will be removed from pandas in a future version. Import numpy directly instead\n",
      "  after removing the cwd from sys.path.\n"
     ]
    }
   ],
   "source": [
    "# find least-squares solution to linear equation\n",
    "import numpy as np\n",
    "df['ones'] = pd.np.ones(len(df))\n",
    "m,c = pd.np.linalg.lstsq(\n",
    "    df[['index','ones']], \n",
    "    df['y1'], \n",
    "    rcond=None)[0]"
   ]
  },
  {
   "cell_type": "code",
   "execution_count": 40,
   "metadata": {},
   "outputs": [
    {
     "data": {
      "text/plain": [
       "<matplotlib.axes._subplots.AxesSubplot at 0x7fe7c2b447b8>"
      ]
     },
     "execution_count": 40,
     "metadata": {},
     "output_type": "execute_result"
    },
    {
     "data": {
      "image/png": "[encoded data removed]",
      "text/plain": [
       "<Figure size 432x288 with 1 Axes>"
      ]
     },
     "metadata": {
      "needs_background": "light"
     },
     "output_type": "display_data"
    }
   ],
   "source": [
    "# line equation is y = m*x+c\n",
    "# find values for line y that best fits y1\n",
    "df['y'] = df['index'].apply(lambda x: x * m + c)\n",
    "df[['y','y1']].plot()"
   ]
  },
  {
   "cell_type": "markdown",
   "metadata": {},
   "source": [
    "## How NOT to write Pandas code"
   ]
  },
  {
   "cell_type": "code",
   "execution_count": 41,
   "metadata": {},
   "outputs": [],
   "source": [
    "np.random.seed(42) # to make repeatable samples"
   ]
  },
  {
   "cell_type": "markdown",
   "metadata": {},
   "source": [
    "### sample dataset\n",
    "* booking info, various cities, random\n",
    "* id, city, booked_perc (%bookings at a certain time)\n",
    "* 10K entries"
   ]
  },
  {
   "cell_type": "code",
   "execution_count": 42,
   "metadata": {},
   "outputs": [
    {
     "data": {
      "text/html": [
       "<div>\n",
       "<style scoped>\n",
       "    .dataframe tbody tr th:only-of-type {\n",
       "        vertical-align: middle;\n",
       "    }\n",
       "\n",
       "    .dataframe tbody tr th {\n",
       "        vertical-align: top;\n",
       "    }\n",
       "\n",
       "    .dataframe thead th {\n",
       "        text-align: right;\n",
       "    }\n",
       "</style>\n",
       "<table border=\"1\" class=\"dataframe\">\n",
       "  <thead>\n",
       "    <tr style=\"text-align: right;\">\n",
       "      <th></th>\n",
       "      <th>id</th>\n",
       "      <th>city</th>\n",
       "      <th>booked_perc</th>\n",
       "    </tr>\n",
       "  </thead>\n",
       "  <tbody>\n",
       "    <tr>\n",
       "      <th>0</th>\n",
       "      <td>0-berlin</td>\n",
       "      <td>berlin</td>\n",
       "      <td>0.393636</td>\n",
       "    </tr>\n",
       "    <tr>\n",
       "      <th>1</th>\n",
       "      <td>1-new york</td>\n",
       "      <td>new york</td>\n",
       "      <td>0.473436</td>\n",
       "    </tr>\n",
       "    <tr>\n",
       "      <th>2</th>\n",
       "      <td>2-paris</td>\n",
       "      <td>paris</td>\n",
       "      <td>0.854547</td>\n",
       "    </tr>\n",
       "    <tr>\n",
       "      <th>3</th>\n",
       "      <td>3-berlin</td>\n",
       "      <td>berlin</td>\n",
       "      <td>0.340004</td>\n",
       "    </tr>\n",
       "    <tr>\n",
       "      <th>4</th>\n",
       "      <td>4-berlin</td>\n",
       "      <td>berlin</td>\n",
       "      <td>0.869650</td>\n",
       "    </tr>\n",
       "  </tbody>\n",
       "</table>\n",
       "</div>"
      ],
      "text/plain": [
       "           id      city  booked_perc\n",
       "0    0-berlin    berlin     0.393636\n",
       "1  1-new york  new york     0.473436\n",
       "2     2-paris     paris     0.854547\n",
       "3    3-berlin    berlin     0.340004\n",
       "4    4-berlin    berlin     0.869650"
      ]
     },
     "execution_count": 42,
     "metadata": {},
     "output_type": "execute_result"
    }
   ],
   "source": [
    "size   = 10000\n",
    "cities = [\"paris\", \"barcelona\", \"berlin\", \"new york\"]\n",
    "df     = pd.DataFrame(\n",
    "    {\"city\": np.random.choice(cities, size=size), \n",
    "     \"booked_perc\": np.random.rand(size)}\n",
    ")\n",
    "\n",
    "df[\"id\"] = df.index.map(str) + \"-\" + df.city\n",
    "df       = df[[\"id\", \"city\", \"booked_perc\"]]\n",
    "df.head()"
   ]
  },
  {
   "cell_type": "markdown",
   "metadata": {},
   "source": [
    "### summing data (BAD):"
   ]
  },
  {
   "cell_type": "code",
   "execution_count": 43,
   "metadata": {},
   "outputs": [
    {
     "name": "stdout",
     "output_type": "stream",
     "text": [
      "1.02 s ± 27 ms per loop (mean ± std. dev. of 7 runs, 1 loop each)\n"
     ]
    }
   ],
   "source": [
    "%%timeit\n",
    "suma = 0\n",
    "for _, row in df.iterrows():\n",
    "    suma += row.booked_perc"
   ]
  },
  {
   "cell_type": "markdown",
   "metadata": {},
   "source": [
    "### summing data (MEH):"
   ]
  },
  {
   "cell_type": "code",
   "execution_count": 44,
   "metadata": {},
   "outputs": [
    {
     "name": "stdout",
     "output_type": "stream",
     "text": [
      "1.21 ms ± 49 µs per loop (mean ± std. dev. of 7 runs, 1000 loops each)\n"
     ]
    }
   ],
   "source": [
    "%%timeit\n",
    "sum(booked_perc for booked_perc in df.booked_perc)"
   ]
  },
  {
   "cell_type": "markdown",
   "metadata": {},
   "source": [
    "### summing data (BETTER):"
   ]
  },
  {
   "cell_type": "code",
   "execution_count": 45,
   "metadata": {},
   "outputs": [
    {
     "name": "stdout",
     "output_type": "stream",
     "text": [
      "132 µs ± 4.05 µs per loop (mean ± std. dev. of 7 runs, 10000 loops each)\n"
     ]
    }
   ],
   "source": [
    "%%timeit\n",
    "df.booked_perc.sum()"
   ]
  },
  {
   "cell_type": "markdown",
   "metadata": {},
   "source": [
    "### filtering data (BAD):"
   ]
  },
  {
   "cell_type": "code",
   "execution_count": 46,
   "metadata": {},
   "outputs": [
    {
     "name": "stdout",
     "output_type": "stream",
     "text": [
      "1.08 s ± 22.2 ms per loop (mean ± std. dev. of 7 runs, 1 loop each)\n"
     ]
    }
   ],
   "source": [
    "%%timeit\n",
    "suma = 0\n",
    "for _, row in df.iterrows():\n",
    "    if row.booked_perc <= 0.5:\n",
    "        suma += row.booked_perc"
   ]
  },
  {
   "cell_type": "markdown",
   "metadata": {},
   "source": [
    "### filtering data (BETTER):"
   ]
  },
  {
   "cell_type": "code",
   "execution_count": 47,
   "metadata": {},
   "outputs": [
    {
     "name": "stdout",
     "output_type": "stream",
     "text": [
      "892 µs ± 44 µs per loop (mean ± std. dev. of 7 runs, 1000 loops each)\n"
     ]
    }
   ],
   "source": [
    "%%timeit\n",
    "df[df.booked_perc <= 0.5].booked_perc.sum()"
   ]
  },
  {
   "cell_type": "markdown",
   "metadata": {},
   "source": [
    "### adding filters - use parens"
   ]
  },
  {
   "cell_type": "code",
   "execution_count": 48,
   "metadata": {},
   "outputs": [
    {
     "name": "stdout",
     "output_type": "stream",
     "text": [
      "1.36 ms ± 44.6 µs per loop (mean ± std. dev. of 7 runs, 1000 loops each)\n"
     ]
    }
   ],
   "source": [
    "%%timeit\n",
    "df[(df.booked_perc <= 0.5) & (df.city == 'new york')].booked_perc.sum()"
   ]
  },
  {
   "cell_type": "markdown",
   "metadata": {},
   "source": [
    "### accessing previous values (BAD):"
   ]
  },
  {
   "cell_type": "code",
   "execution_count": 49,
   "metadata": {},
   "outputs": [
    {
     "name": "stdout",
     "output_type": "stream",
     "text": [
      "9.17 s ± 134 ms per loop (mean ± std. dev. of 7 runs, 1 loop each)\n"
     ]
    }
   ],
   "source": [
    "%%timeit\n",
    "for i in range(1, len(df)):\n",
    "    df.loc[i, \"perc_change\"] =  (df.loc[i].booked_perc - df.loc[i - 1].booked_perc) / df.loc[i - 1].booked_perc"
   ]
  },
  {
   "cell_type": "markdown",
   "metadata": {},
   "source": [
    "### accessing previous values (BETTER):"
   ]
  },
  {
   "cell_type": "code",
   "execution_count": 50,
   "metadata": {},
   "outputs": [
    {
     "name": "stdout",
     "output_type": "stream",
     "text": [
      "935 µs ± 35.7 µs per loop (mean ± std. dev. of 7 runs, 1000 loops each)\n"
     ]
    }
   ],
   "source": [
    "%%timeit\n",
    "df[\"perc_change\"] = df.booked_perc.pct_change()"
   ]
  },
  {
   "cell_type": "markdown",
   "metadata": {},
   "source": [
    "* Pandas often uses __periods__ argument to access statistics based on previous values."
   ]
  },
  {
   "cell_type": "markdown",
   "metadata": {},
   "source": [
    "### applying complex functions (BAD):\n",
    "* below: multiply NY booking_perc by 2, set others to 0, rename column"
   ]
  },
  {
   "cell_type": "code",
   "execution_count": 51,
   "metadata": {},
   "outputs": [
    {
     "name": "stdout",
     "output_type": "stream",
     "text": [
      "4.65 s ± 460 ms per loop (mean ± std. dev. of 7 runs, 1 loop each)\n"
     ]
    }
   ],
   "source": [
    "%%timeit\n",
    "for i, row in df.iterrows():\n",
    "    if row.city == 'new york':\n",
    "        df.loc[i, 'sales_factor'] = row.booked_perc * 2\n",
    "    else:\n",
    "        df.loc[i, 'sales_factor'] = 0"
   ]
  },
  {
   "cell_type": "markdown",
   "metadata": {},
   "source": [
    "### applying complex functions (BETTER):\n",
    "* using apply function directly in a DF"
   ]
  },
  {
   "cell_type": "code",
   "execution_count": 52,
   "metadata": {},
   "outputs": [
    {
     "name": "stdout",
     "output_type": "stream",
     "text": [
      "192 ms ± 1.88 ms per loop (mean ± std. dev. of 7 runs, 1 loop each)\n"
     ]
    }
   ],
   "source": [
    "%%timeit\n",
    "def calculate_sales_factor(row):\n",
    "    if row.city == 'new york':\n",
    "        return row.booked_perc * 2\n",
    "    return 0\n",
    "df['sales_factor'] = df.apply(calculate_sales_factor, axis=1)"
   ]
  },
  {
   "cell_type": "markdown",
   "metadata": {},
   "source": [
    "### applying complex functions (BETTER BETTER):\n",
    "* using Pandas filter & calculating function values directly."
   ]
  },
  {
   "cell_type": "code",
   "execution_count": 53,
   "metadata": {},
   "outputs": [
    {
     "name": "stdout",
     "output_type": "stream",
     "text": [
      "3.5 ms ± 327 µs per loop (mean ± std. dev. of 7 runs, 100 loops each)\n"
     ]
    }
   ],
   "source": [
    "%%timeit \n",
    "df.loc[df.city == 'new york', 'sales_factor'] = df[df.city == 'new york'].booked_perc * 2\n",
    "df.sales_factor.fillna(0, inplace=True)"
   ]
  },
  {
   "cell_type": "markdown",
   "metadata": {},
   "source": [
    "### handling functions with >=3 variables\n",
    "* breaking into multi pandas expressions = faster than using apply function"
   ]
  },
  {
   "cell_type": "markdown",
   "metadata": {},
   "source": [
    "### how to group data (BAD):\n",
    "* use case: average sales factor by city, first booking id by city"
   ]
  },
  {
   "cell_type": "code",
   "execution_count": 54,
   "metadata": {},
   "outputs": [
    {
     "name": "stdout",
     "output_type": "stream",
     "text": [
      "1.13 s ± 19.1 ms per loop (mean ± std. dev. of 7 runs, 1 loop each)\n"
     ]
    }
   ],
   "source": [
    "%%timeit \n",
    "avg_by_city           = {}\n",
    "count_by_city         = {}\n",
    "first_booking_by_city = {}\n",
    "\n",
    "for i, row in df.iterrows():\n",
    "    city = row.city\n",
    "    \n",
    "    if city in avg_by_city:\n",
    "        avg_by_city[city]          += row.sales_factor\n",
    "        count_by_city[city]        += 1\n",
    "        \n",
    "    else:\n",
    "        avg_by_city[city]           = row.sales_factor\n",
    "        count_by_city[city]         = 1\n",
    "        first_booking_by_city[city] = row['id']\n",
    "        \n",
    "for city, _ in avg_by_city.items():\n",
    "    avg_by_city[city] /= count_by_city[city]"
   ]
  },
  {
   "cell_type": "markdown",
   "metadata": {},
   "source": [
    "### how to group data (BETTER):\n",
    "* using Pandas *groupby* function"
   ]
  },
  {
   "cell_type": "code",
   "execution_count": 55,
   "metadata": {},
   "outputs": [
    {
     "name": "stdout",
     "output_type": "stream",
     "text": [
      "3.9 ms ± 7.41 µs per loop (mean ± std. dev. of 7 runs, 100 loops each)\n"
     ]
    }
   ],
   "source": [
    "%%timeit\n",
    "df.groupby('city').sales_factor.mean()\n",
    "df.groupby('city').sales_factor.count()\n",
    "df.groupby('city').id.first()"
   ]
  },
  {
   "cell_type": "markdown",
   "metadata": {},
   "source": [
    "## Gotchas"
   ]
  },
  {
   "cell_type": "markdown",
   "metadata": {},
   "source": [
    "### reading multiple files\n",
    "* glob library - supports regexes\n",
    "* no need to extract zipped files - pandas does un-archiving for you."
   ]
  },
  {
   "cell_type": "code",
   "execution_count": 56,
   "metadata": {},
   "outputs": [],
   "source": [
    "#TODO"
   ]
  },
  {
   "cell_type": "markdown",
   "metadata": {},
   "source": [
    "### descriptive stats"
   ]
  },
  {
   "cell_type": "code",
   "execution_count": 57,
   "metadata": {},
   "outputs": [],
   "source": [
    "#TODO"
   ]
  },
  {
   "cell_type": "markdown",
   "metadata": {},
   "source": [
    "## Reproduceability - Tips"
   ]
  },
  {
   "cell_type": "markdown",
   "metadata": {},
   "source": [
    "### Display system & package version info"
   ]
  },
  {
   "cell_type": "code",
   "execution_count": 58,
   "metadata": {},
   "outputs": [
    {
     "name": "stdout",
     "output_type": "stream",
     "text": [
      "System\n",
      "os name: posix\n",
      "system: Linux\n",
      "release: 4.15.0-91-generic\n",
      "\n",
      "Python\n",
      "version: 3.6.9\n",
      "\n",
      "Python Packages\n",
      "jupterlab==1.1.4\n",
      "pandas==1.0.3\n",
      "numpy==1.18.1\n"
     ]
    }
   ],
   "source": [
    "import os, platform\n",
    "from platform import python_version\n",
    "import jupyterlab\n",
    "print(\"System\")\n",
    "print(\"os name: %s\" % os.name)\n",
    "print(\"system: %s\" % platform.system())\n",
    "print(\"release: %s\" % platform.release())\n",
    "print()\n",
    "print(\"Python\")\n",
    "print(\"version: %s\" % python_version())\n",
    "print()\n",
    "print(\"Python Packages\")\n",
    "print(\"jupterlab==%s\" % jupyterlab.__version__)\n",
    "print(\"pandas==%s\" % pd.__version__)\n",
    "print(\"numpy==%s\" % np.__version__)"
   ]
  },
  {
   "cell_type": "markdown",
   "metadata": {},
   "source": [
    "* Just say NO to automatic package imports (pandas, numpy, ...)"
   ]
  },
  {
   "cell_type": "markdown",
   "metadata": {},
   "source": [
    "### always set a seed for randomly generated data\n",
    "* note: pandas uses numpy, so set set with numpy."
   ]
  },
  {
   "cell_type": "code",
   "execution_count": 59,
   "metadata": {},
   "outputs": [
    {
     "data": {
      "text/plain": [
       "array([0.37454012, 0.95071431, 0.73199394, 0.59865848, 0.15601864,\n",
       "       0.15599452, 0.05808361, 0.86617615, 0.60111501, 0.70807258])"
      ]
     },
     "execution_count": 59,
     "metadata": {},
     "output_type": "execute_result"
    }
   ],
   "source": [
    "np.random.seed(42)\n",
    "np.random.random_sample(10)"
   ]
  },
  {
   "cell_type": "code",
   "execution_count": 60,
   "metadata": {},
   "outputs": [
    {
     "data": {
      "text/plain": [
       "array([0.02058449, 0.96990985, 0.83244264, 0.21233911, 0.18182497,\n",
       "       0.18340451, 0.30424224, 0.52475643, 0.43194502, 0.29122914])"
      ]
     },
     "execution_count": 60,
     "metadata": {},
     "output_type": "execute_result"
    }
   ],
   "source": [
    "np.random.random_sample(10)"
   ]
  },
  {
   "cell_type": "code",
   "execution_count": 61,
   "metadata": {},
   "outputs": [
    {
     "data": {
      "text/plain": [
       "array([0.37454012, 0.95071431, 0.73199394, 0.59865848, 0.15601864,\n",
       "       0.15599452, 0.05808361, 0.86617615, 0.60111501, 0.70807258])"
      ]
     },
     "execution_count": 61,
     "metadata": {},
     "output_type": "execute_result"
    }
   ],
   "source": [
    "np.random.seed(42)\n",
    "np.random.random_sample(10)"
   ]
  },
  {
   "cell_type": "markdown",
   "metadata": {},
   "source": [
    "## Display customizations\n",
    "* more info in [pandas documentation](https://pandas.pydata.org/pandas-docs/stable/user_guide/options.html)"
   ]
  },
  {
   "cell_type": "code",
   "execution_count": 62,
   "metadata": {},
   "outputs": [],
   "source": [
    "import random"
   ]
  },
  {
   "cell_type": "code",
   "execution_count": 63,
   "metadata": {},
   "outputs": [
    {
     "name": "stderr",
     "output_type": "stream",
     "text": [
      "/home/bjpcjp/.local/lib/python3.6/site-packages/ipykernel_launcher.py:8: FutureWarning: The pandas.np module is deprecated and will be removed from pandas in a future version. Import numpy directly instead\n",
      "  \n"
     ]
    },
    {
     "data": {
      "text/plain": [
       "(100, 2)"
      ]
     },
     "execution_count": 63,
     "metadata": {},
     "output_type": "execute_result"
    }
   ],
   "source": [
    "# dataset = 2 cols, 100 rows, col1 = random(0,1); col2 = random 200-char sequences\n",
    "\n",
    "def generate_sentence(n_chars=200):\n",
    "    return ''.join(random.choice('abcdefg ') for _ in range(n_chars))\n",
    "n = 100\n",
    "df = pd.DataFrame(\n",
    "    {\n",
    "        \"col1\": pd.np.random.random_sample(n),\n",
    "        \"text\": [generate_sentence() for _ in range(n)]\n",
    "    }\n",
    ")\n",
    "df.shape"
   ]
  },
  {
   "cell_type": "markdown",
   "metadata": {},
   "source": [
    "### suppress scientific notation\n",
    "* default: small & large numbers displayed using exponential notation"
   ]
  },
  {
   "cell_type": "code",
   "execution_count": 64,
   "metadata": {},
   "outputs": [
    {
     "data": {
      "text/html": [
       "<div>\n",
       "<style scoped>\n",
       "    .dataframe tbody tr th:only-of-type {\n",
       "        vertical-align: middle;\n",
       "    }\n",
       "\n",
       "    .dataframe tbody tr th {\n",
       "        vertical-align: top;\n",
       "    }\n",
       "\n",
       "    .dataframe thead th {\n",
       "        text-align: right;\n",
       "    }\n",
       "</style>\n",
       "<table border=\"1\" class=\"dataframe\">\n",
       "  <thead>\n",
       "    <tr style=\"text-align: right;\">\n",
       "      <th></th>\n",
       "      <th>col1</th>\n",
       "      <th>text</th>\n",
       "    </tr>\n",
       "  </thead>\n",
       "  <tbody>\n",
       "    <tr>\n",
       "      <th>0</th>\n",
       "      <td>1.000000e-10</td>\n",
       "      <td>gcccbbggefbefcbfdg  cfgd b aa ad caada  dgebb...</td>\n",
       "    </tr>\n",
       "    <tr>\n",
       "      <th>1</th>\n",
       "      <td>9.699099e-01</td>\n",
       "      <td>cga eefdbd facagf  dagcegbbbgdaegfb cfagac egf...</td>\n",
       "    </tr>\n",
       "    <tr>\n",
       "      <th>2</th>\n",
       "      <td>8.324426e-01</td>\n",
       "      <td>dgbdcag e becfabdb geacec eec acbbedaebg  bffa...</td>\n",
       "    </tr>\n",
       "    <tr>\n",
       "      <th>3</th>\n",
       "      <td>2.123391e-01</td>\n",
       "      <td>dbe bef  fffg a fbdaf gagafgbbc ffafcgf fabdg ...</td>\n",
       "    </tr>\n",
       "    <tr>\n",
       "      <th>4</th>\n",
       "      <td>1.818250e-01</td>\n",
       "      <td>dcaafbfg  ffbeagfgf ggaaeccggbddaeggad fbebabc...</td>\n",
       "    </tr>\n",
       "  </tbody>\n",
       "</table>\n",
       "</div>"
      ],
      "text/plain": [
       "           col1                                               text\n",
       "0  1.000000e-10   gcccbbggefbefcbfdg  cfgd b aa ad caada  dgebb...\n",
       "1  9.699099e-01  cga eefdbd facagf  dagcegbbbgdaegfb cfagac egf...\n",
       "2  8.324426e-01  dgbdcag e becfabdb geacec eec acbbedaebg  bffa...\n",
       "3  2.123391e-01  dbe bef  fffg a fbdaf gagafgbbc ffafcgf fabdg ...\n",
       "4  1.818250e-01  dcaafbfg  ffbeagfgf ggaaeccggbddaeggad fbebabc..."
      ]
     },
     "execution_count": 64,
     "metadata": {},
     "output_type": "execute_result"
    }
   ],
   "source": [
    "# replace 1st value in col1 with small number\n",
    "df.iloc[0,0] = 1e-10\n",
    "df.head()"
   ]
  },
  {
   "cell_type": "code",
   "execution_count": 65,
   "metadata": {},
   "outputs": [
    {
     "data": {
      "text/html": [
       "<div>\n",
       "<style scoped>\n",
       "    .dataframe tbody tr th:only-of-type {\n",
       "        vertical-align: middle;\n",
       "    }\n",
       "\n",
       "    .dataframe tbody tr th {\n",
       "        vertical-align: top;\n",
       "    }\n",
       "\n",
       "    .dataframe thead th {\n",
       "        text-align: right;\n",
       "    }\n",
       "</style>\n",
       "<table border=\"1\" class=\"dataframe\">\n",
       "  <thead>\n",
       "    <tr style=\"text-align: right;\">\n",
       "      <th></th>\n",
       "      <th>col1</th>\n",
       "      <th>text</th>\n",
       "    </tr>\n",
       "  </thead>\n",
       "  <tbody>\n",
       "    <tr>\n",
       "      <th>0</th>\n",
       "      <td>0.0000000001</td>\n",
       "      <td>gcccbbggefbefcbfdg  cfgd b aa ad caada  dgebb...</td>\n",
       "    </tr>\n",
       "    <tr>\n",
       "      <th>1</th>\n",
       "      <td>0.9699098522</td>\n",
       "      <td>cga eefdbd facagf  dagcegbbbgdaegfb cfagac egf...</td>\n",
       "    </tr>\n",
       "    <tr>\n",
       "      <th>2</th>\n",
       "      <td>0.8324426408</td>\n",
       "      <td>dgbdcag e becfabdb geacec eec acbbedaebg  bffa...</td>\n",
       "    </tr>\n",
       "    <tr>\n",
       "      <th>3</th>\n",
       "      <td>0.2123391107</td>\n",
       "      <td>dbe bef  fffg a fbdaf gagafgbbc ffafcgf fabdg ...</td>\n",
       "    </tr>\n",
       "    <tr>\n",
       "      <th>4</th>\n",
       "      <td>0.1818249672</td>\n",
       "      <td>dcaafbfg  ffbeagfgf ggaaeccggbddaeggad fbebabc...</td>\n",
       "    </tr>\n",
       "  </tbody>\n",
       "</table>\n",
       "</div>"
      ],
      "text/plain": [
       "          col1                                               text\n",
       "0 0.0000000001   gcccbbggefbefcbfdg  cfgd b aa ad caada  dgebb...\n",
       "1 0.9699098522  cga eefdbd facagf  dagcegbbbgdaegfb cfagac egf...\n",
       "2 0.8324426408  dgbdcag e becfabdb geacec eec acbbedaebg  bffa...\n",
       "3 0.2123391107  dbe bef  fffg a fbdaf gagafgbbc ffafcgf fabdg ...\n",
       "4 0.1818249672  dcaafbfg  ffbeagfgf ggaaeccggbddaeggad fbebabc..."
      ]
     },
     "execution_count": 65,
     "metadata": {},
     "output_type": "execute_result"
    }
   ],
   "source": [
    "pd.options.display.float_format = '{:,.10f}'.format\n",
    "df.head()"
   ]
  },
  {
   "cell_type": "code",
   "execution_count": 66,
   "metadata": {},
   "outputs": [
    {
     "data": {
      "text/html": [
       "<div>\n",
       "<style scoped>\n",
       "    .dataframe tbody tr th:only-of-type {\n",
       "        vertical-align: middle;\n",
       "    }\n",
       "\n",
       "    .dataframe tbody tr th {\n",
       "        vertical-align: top;\n",
       "    }\n",
       "\n",
       "    .dataframe thead th {\n",
       "        text-align: right;\n",
       "    }\n",
       "</style>\n",
       "<table border=\"1\" class=\"dataframe\">\n",
       "  <thead>\n",
       "    <tr style=\"text-align: right;\">\n",
       "      <th></th>\n",
       "      <th>col1</th>\n",
       "      <th>text</th>\n",
       "    </tr>\n",
       "  </thead>\n",
       "  <tbody>\n",
       "    <tr>\n",
       "      <th>0</th>\n",
       "      <td>1.000000e-10</td>\n",
       "      <td>gcccbbggefbefcbfdg  cfgd b aa ad caada  dgebb...</td>\n",
       "    </tr>\n",
       "    <tr>\n",
       "      <th>1</th>\n",
       "      <td>9.699099e-01</td>\n",
       "      <td>cga eefdbd facagf  dagcegbbbgdaegfb cfagac egf...</td>\n",
       "    </tr>\n",
       "    <tr>\n",
       "      <th>2</th>\n",
       "      <td>8.324426e-01</td>\n",
       "      <td>dgbdcag e becfabdb geacec eec acbbedaebg  bffa...</td>\n",
       "    </tr>\n",
       "    <tr>\n",
       "      <th>3</th>\n",
       "      <td>2.123391e-01</td>\n",
       "      <td>dbe bef  fffg a fbdaf gagafgbbc ffafcgf fabdg ...</td>\n",
       "    </tr>\n",
       "    <tr>\n",
       "      <th>4</th>\n",
       "      <td>1.818250e-01</td>\n",
       "      <td>dcaafbfg  ffbeagfgf ggaaeccggbddaeggad fbebabc...</td>\n",
       "    </tr>\n",
       "  </tbody>\n",
       "</table>\n",
       "</div>"
      ],
      "text/plain": [
       "           col1                                               text\n",
       "0  1.000000e-10   gcccbbggefbefcbfdg  cfgd b aa ad caada  dgebb...\n",
       "1  9.699099e-01  cga eefdbd facagf  dagcegbbbgdaegfb cfagac egf...\n",
       "2  8.324426e-01  dgbdcag e becfabdb geacec eec acbbedaebg  bffa...\n",
       "3  2.123391e-01  dbe bef  fffg a fbdaf gagafgbbc ffafcgf fabdg ...\n",
       "4  1.818250e-01  dcaafbfg  ffbeagfgf ggaaeccggbddaeggad fbebabc..."
      ]
     },
     "execution_count": 66,
     "metadata": {},
     "output_type": "execute_result"
    }
   ],
   "source": [
    "pd.reset_option('display.float_format')\n",
    "df.head()"
   ]
  },
  {
   "cell_type": "markdown",
   "metadata": {},
   "source": [
    "### changing max number of displayed rows/columns (20 = default for cols)"
   ]
  },
  {
   "cell_type": "code",
   "execution_count": 67,
   "metadata": {},
   "outputs": [
    {
     "data": {
      "text/html": [
       "<div>\n",
       "<style scoped>\n",
       "    .dataframe tbody tr th:only-of-type {\n",
       "        vertical-align: middle;\n",
       "    }\n",
       "\n",
       "    .dataframe tbody tr th {\n",
       "        vertical-align: top;\n",
       "    }\n",
       "\n",
       "    .dataframe thead th {\n",
       "        text-align: right;\n",
       "    }\n",
       "</style>\n",
       "<table border=\"1\" class=\"dataframe\">\n",
       "  <thead>\n",
       "    <tr style=\"text-align: right;\">\n",
       "      <th></th>\n",
       "      <th>0</th>\n",
       "      <th>1</th>\n",
       "      <th>2</th>\n",
       "      <th>3</th>\n",
       "      <th>4</th>\n",
       "      <th>5</th>\n",
       "      <th>6</th>\n",
       "      <th>7</th>\n",
       "      <th>8</th>\n",
       "      <th>9</th>\n",
       "      <th>...</th>\n",
       "      <th>90</th>\n",
       "      <th>91</th>\n",
       "      <th>92</th>\n",
       "      <th>93</th>\n",
       "      <th>94</th>\n",
       "      <th>95</th>\n",
       "      <th>96</th>\n",
       "      <th>97</th>\n",
       "      <th>98</th>\n",
       "      <th>99</th>\n",
       "    </tr>\n",
       "  </thead>\n",
       "  <tbody>\n",
       "    <tr>\n",
       "      <th>col1</th>\n",
       "      <td>1e-10</td>\n",
       "      <td>0.96991</td>\n",
       "      <td>0.832443</td>\n",
       "      <td>0.212339</td>\n",
       "      <td>0.181825</td>\n",
       "      <td>0.183405</td>\n",
       "      <td>0.304242</td>\n",
       "      <td>0.524756</td>\n",
       "      <td>0.431945</td>\n",
       "      <td>0.291229</td>\n",
       "      <td>...</td>\n",
       "      <td>0.0314292</td>\n",
       "      <td>0.63641</td>\n",
       "      <td>0.314356</td>\n",
       "      <td>0.508571</td>\n",
       "      <td>0.907566</td>\n",
       "      <td>0.249292</td>\n",
       "      <td>0.410383</td>\n",
       "      <td>0.755551</td>\n",
       "      <td>0.228798</td>\n",
       "      <td>0.0769799</td>\n",
       "    </tr>\n",
       "    <tr>\n",
       "      <th>text</th>\n",
       "      <td>gcccbbggefbefcbfdg  cfgd b aa ad caada  dgebb...</td>\n",
       "      <td>cga eefdbd facagf  dagcegbbbgdaegfb cfagac egf...</td>\n",
       "      <td>dgbdcag e becfabdb geacec eec acbbedaebg  bffa...</td>\n",
       "      <td>dbe bef  fffg a fbdaf gagafgbbc ffafcgf fabdg ...</td>\n",
       "      <td>dcaafbfg  ffbeagfgf ggaaeccggbddaeggad fbebabc...</td>\n",
       "      <td>ebgbeeebc gcbfbe caefb  fbaf adabdagbec cgdaa ...</td>\n",
       "      <td>fdc gcgcbad gbcec abbababc  eddcbfdgdagd  f de...</td>\n",
       "      <td>cabddgabaccafgeffgccffdcf gecbabfcg bagc  gcc ...</td>\n",
       "      <td>bbcbf bf ddddfcg gaedff aeefcgdcgedegcg acgfbd...</td>\n",
       "      <td>bagfaa ccgf ddf dcf  cdfaaccggfdecdadfbggbgge...</td>\n",
       "      <td>...</td>\n",
       "      <td>eegcgb ddccfg ecbagabfbe ebaacae cb e f bbgef...</td>\n",
       "      <td>bgd gdef fccadfgagc cd edgabdgbe aabcefdced e ...</td>\n",
       "      <td>aadgbebecgagaeafc gfbgdadgbgbgacdacgedafcg bgd...</td>\n",
       "      <td>f bf ecaefb g caaebcbefbcgaffgcff ddacea acc  ...</td>\n",
       "      <td>fbebcfa bcacbaecbfebacbf bcbaebfbggaaggeagcada...</td>\n",
       "      <td>egee eecbabdfcdagfefdfbcbaeecf debgbaedbdbgdeg...</td>\n",
       "      <td>egcddf bcbeaeeadf c f bgecf dbbafebefcaga aeeg...</td>\n",
       "      <td>b dfefbcgc bf ddcgedagaafae acb ea  bb dbd fgg...</td>\n",
       "      <td>cbbg cc abbabfffg c dbgeeef gc cgf adffaceeega...</td>\n",
       "      <td>ac bc  g dgdbg cggffabcgeeeeab ddabececcc fegb...</td>\n",
       "    </tr>\n",
       "  </tbody>\n",
       "</table>\n",
       "<p>2 rows × 100 columns</p>\n",
       "</div>"
      ],
      "text/plain": [
       "                                                     0   \\\n",
       "col1                                              1e-10   \n",
       "text   gcccbbggefbefcbfdg  cfgd b aa ad caada  dgebb...   \n",
       "\n",
       "                                                     1   \\\n",
       "col1                                            0.96991   \n",
       "text  cga eefdbd facagf  dagcegbbbgdaegfb cfagac egf...   \n",
       "\n",
       "                                                     2   \\\n",
       "col1                                           0.832443   \n",
       "text  dgbdcag e becfabdb geacec eec acbbedaebg  bffa...   \n",
       "\n",
       "                                                     3   \\\n",
       "col1                                           0.212339   \n",
       "text  dbe bef  fffg a fbdaf gagafgbbc ffafcgf fabdg ...   \n",
       "\n",
       "                                                     4   \\\n",
       "col1                                           0.181825   \n",
       "text  dcaafbfg  ffbeagfgf ggaaeccggbddaeggad fbebabc...   \n",
       "\n",
       "                                                     5   \\\n",
       "col1                                           0.183405   \n",
       "text  ebgbeeebc gcbfbe caefb  fbaf adabdagbec cgdaa ...   \n",
       "\n",
       "                                                     6   \\\n",
       "col1                                           0.304242   \n",
       "text  fdc gcgcbad gbcec abbababc  eddcbfdgdagd  f de...   \n",
       "\n",
       "                                                     7   \\\n",
       "col1                                           0.524756   \n",
       "text  cabddgabaccafgeffgccffdcf gecbabfcg bagc  gcc ...   \n",
       "\n",
       "                                                     8   \\\n",
       "col1                                           0.431945   \n",
       "text  bbcbf bf ddddfcg gaedff aeefcgdcgedegcg acgfbd...   \n",
       "\n",
       "                                                     9   ...  \\\n",
       "col1                                           0.291229  ...   \n",
       "text   bagfaa ccgf ddf dcf  cdfaaccggfdecdadfbggbgge...  ...   \n",
       "\n",
       "                                                     90  \\\n",
       "col1                                          0.0314292   \n",
       "text   eegcgb ddccfg ecbagabfbe ebaacae cb e f bbgef...   \n",
       "\n",
       "                                                     91  \\\n",
       "col1                                            0.63641   \n",
       "text  bgd gdef fccadfgagc cd edgabdgbe aabcefdced e ...   \n",
       "\n",
       "                                                     92  \\\n",
       "col1                                           0.314356   \n",
       "text  aadgbebecgagaeafc gfbgdadgbgbgacdacgedafcg bgd...   \n",
       "\n",
       "                                                     93  \\\n",
       "col1                                           0.508571   \n",
       "text  f bf ecaefb g caaebcbefbcgaffgcff ddacea acc  ...   \n",
       "\n",
       "                                                     94  \\\n",
       "col1                                           0.907566   \n",
       "text  fbebcfa bcacbaecbfebacbf bcbaebfbggaaggeagcada...   \n",
       "\n",
       "                                                     95  \\\n",
       "col1                                           0.249292   \n",
       "text  egee eecbabdfcdagfefdfbcbaeecf debgbaedbdbgdeg...   \n",
       "\n",
       "                                                     96  \\\n",
       "col1                                           0.410383   \n",
       "text  egcddf bcbeaeeadf c f bgecf dbbafebefcaga aeeg...   \n",
       "\n",
       "                                                     97  \\\n",
       "col1                                           0.755551   \n",
       "text  b dfefbcgc bf ddcgedagaafae acb ea  bb dbd fgg...   \n",
       "\n",
       "                                                     98  \\\n",
       "col1                                           0.228798   \n",
       "text  cbbg cc abbabfffg c dbgeeef gc cgf adffaceeega...   \n",
       "\n",
       "                                                     99  \n",
       "col1                                          0.0769799  \n",
       "text  ac bc  g dgdbg cggffabcgeeeeab ddabececcc fegb...  \n",
       "\n",
       "[2 rows x 100 columns]"
      ]
     },
     "execution_count": 67,
     "metadata": {},
     "output_type": "execute_result"
    }
   ],
   "source": [
    "# transform rows to cols to viz the problem\n",
    "df.T"
   ]
  },
  {
   "cell_type": "code",
   "execution_count": 68,
   "metadata": {},
   "outputs": [
    {
     "data": {
      "text/html": [
       "<div>\n",
       "<style scoped>\n",
       "    .dataframe tbody tr th:only-of-type {\n",
       "        vertical-align: middle;\n",
       "    }\n",
       "\n",
       "    .dataframe tbody tr th {\n",
       "        vertical-align: top;\n",
       "    }\n",
       "\n",
       "    .dataframe thead th {\n",
       "        text-align: right;\n",
       "    }\n",
       "</style>\n",
       "<table border=\"1\" class=\"dataframe\">\n",
       "  <thead>\n",
       "    <tr style=\"text-align: right;\">\n",
       "      <th></th>\n",
       "      <th>0</th>\n",
       "      <th>1</th>\n",
       "      <th>2</th>\n",
       "      <th>3</th>\n",
       "      <th>4</th>\n",
       "      <th>5</th>\n",
       "      <th>6</th>\n",
       "      <th>7</th>\n",
       "      <th>8</th>\n",
       "      <th>9</th>\n",
       "      <th>10</th>\n",
       "      <th>11</th>\n",
       "      <th>12</th>\n",
       "      <th>13</th>\n",
       "      <th>14</th>\n",
       "      <th>15</th>\n",
       "      <th>16</th>\n",
       "      <th>17</th>\n",
       "      <th>18</th>\n",
       "      <th>19</th>\n",
       "      <th>20</th>\n",
       "      <th>21</th>\n",
       "      <th>22</th>\n",
       "      <th>23</th>\n",
       "      <th>24</th>\n",
       "      <th>25</th>\n",
       "      <th>26</th>\n",
       "      <th>27</th>\n",
       "      <th>28</th>\n",
       "      <th>29</th>\n",
       "      <th>30</th>\n",
       "      <th>31</th>\n",
       "      <th>32</th>\n",
       "      <th>33</th>\n",
       "      <th>34</th>\n",
       "      <th>35</th>\n",
       "      <th>36</th>\n",
       "      <th>37</th>\n",
       "      <th>38</th>\n",
       "      <th>39</th>\n",
       "      <th>40</th>\n",
       "      <th>41</th>\n",
       "      <th>42</th>\n",
       "      <th>43</th>\n",
       "      <th>44</th>\n",
       "      <th>45</th>\n",
       "      <th>46</th>\n",
       "      <th>47</th>\n",
       "      <th>48</th>\n",
       "      <th>49</th>\n",
       "      <th>50</th>\n",
       "      <th>51</th>\n",
       "      <th>52</th>\n",
       "      <th>53</th>\n",
       "      <th>54</th>\n",
       "      <th>55</th>\n",
       "      <th>56</th>\n",
       "      <th>57</th>\n",
       "      <th>58</th>\n",
       "      <th>59</th>\n",
       "      <th>60</th>\n",
       "      <th>61</th>\n",
       "      <th>62</th>\n",
       "      <th>63</th>\n",
       "      <th>64</th>\n",
       "      <th>65</th>\n",
       "      <th>66</th>\n",
       "      <th>67</th>\n",
       "      <th>68</th>\n",
       "      <th>69</th>\n",
       "      <th>70</th>\n",
       "      <th>71</th>\n",
       "      <th>72</th>\n",
       "      <th>73</th>\n",
       "      <th>74</th>\n",
       "      <th>75</th>\n",
       "      <th>76</th>\n",
       "      <th>77</th>\n",
       "      <th>78</th>\n",
       "      <th>79</th>\n",
       "      <th>80</th>\n",
       "      <th>81</th>\n",
       "      <th>82</th>\n",
       "      <th>83</th>\n",
       "      <th>84</th>\n",
       "      <th>85</th>\n",
       "      <th>86</th>\n",
       "      <th>87</th>\n",
       "      <th>88</th>\n",
       "      <th>89</th>\n",
       "      <th>90</th>\n",
       "      <th>91</th>\n",
       "      <th>92</th>\n",
       "      <th>93</th>\n",
       "      <th>94</th>\n",
       "      <th>95</th>\n",
       "      <th>96</th>\n",
       "      <th>97</th>\n",
       "      <th>98</th>\n",
       "      <th>99</th>\n",
       "    </tr>\n",
       "  </thead>\n",
       "  <tbody>\n",
       "    <tr>\n",
       "      <th>col1</th>\n",
       "      <td>1e-10</td>\n",
       "      <td>0.96991</td>\n",
       "      <td>0.832443</td>\n",
       "      <td>0.212339</td>\n",
       "      <td>0.181825</td>\n",
       "      <td>0.183405</td>\n",
       "      <td>0.304242</td>\n",
       "      <td>0.524756</td>\n",
       "      <td>0.431945</td>\n",
       "      <td>0.291229</td>\n",
       "      <td>0.611853</td>\n",
       "      <td>0.139494</td>\n",
       "      <td>0.292145</td>\n",
       "      <td>0.366362</td>\n",
       "      <td>0.45607</td>\n",
       "      <td>0.785176</td>\n",
       "      <td>0.199674</td>\n",
       "      <td>0.514234</td>\n",
       "      <td>0.592415</td>\n",
       "      <td>0.0464504</td>\n",
       "      <td>0.607545</td>\n",
       "      <td>0.170524</td>\n",
       "      <td>0.0650516</td>\n",
       "      <td>0.948886</td>\n",
       "      <td>0.965632</td>\n",
       "      <td>0.808397</td>\n",
       "      <td>0.304614</td>\n",
       "      <td>0.0976721</td>\n",
       "      <td>0.684233</td>\n",
       "      <td>0.440152</td>\n",
       "      <td>0.122038</td>\n",
       "      <td>0.495177</td>\n",
       "      <td>0.0343885</td>\n",
       "      <td>0.90932</td>\n",
       "      <td>0.25878</td>\n",
       "      <td>0.662522</td>\n",
       "      <td>0.311711</td>\n",
       "      <td>0.520068</td>\n",
       "      <td>0.54671</td>\n",
       "      <td>0.184854</td>\n",
       "      <td>0.969585</td>\n",
       "      <td>0.775133</td>\n",
       "      <td>0.939499</td>\n",
       "      <td>0.894827</td>\n",
       "      <td>0.5979</td>\n",
       "      <td>0.921874</td>\n",
       "      <td>0.0884925</td>\n",
       "      <td>0.195983</td>\n",
       "      <td>0.0452273</td>\n",
       "      <td>0.32533</td>\n",
       "      <td>0.388677</td>\n",
       "      <td>0.271349</td>\n",
       "      <td>0.828738</td>\n",
       "      <td>0.356753</td>\n",
       "      <td>0.280935</td>\n",
       "      <td>0.542696</td>\n",
       "      <td>0.140924</td>\n",
       "      <td>0.802197</td>\n",
       "      <td>0.0745506</td>\n",
       "      <td>0.986887</td>\n",
       "      <td>0.772245</td>\n",
       "      <td>0.198716</td>\n",
       "      <td>0.00552212</td>\n",
       "      <td>0.815461</td>\n",
       "      <td>0.706857</td>\n",
       "      <td>0.729007</td>\n",
       "      <td>0.77127</td>\n",
       "      <td>0.0740447</td>\n",
       "      <td>0.358466</td>\n",
       "      <td>0.115869</td>\n",
       "      <td>0.863103</td>\n",
       "      <td>0.623298</td>\n",
       "      <td>0.330898</td>\n",
       "      <td>0.0635584</td>\n",
       "      <td>0.310982</td>\n",
       "      <td>0.325183</td>\n",
       "      <td>0.729606</td>\n",
       "      <td>0.637557</td>\n",
       "      <td>0.887213</td>\n",
       "      <td>0.472215</td>\n",
       "      <td>0.119594</td>\n",
       "      <td>0.713245</td>\n",
       "      <td>0.760785</td>\n",
       "      <td>0.561277</td>\n",
       "      <td>0.770967</td>\n",
       "      <td>0.493796</td>\n",
       "      <td>0.522733</td>\n",
       "      <td>0.427541</td>\n",
       "      <td>0.0254191</td>\n",
       "      <td>0.107891</td>\n",
       "      <td>0.0314292</td>\n",
       "      <td>0.63641</td>\n",
       "      <td>0.314356</td>\n",
       "      <td>0.508571</td>\n",
       "      <td>0.907566</td>\n",
       "      <td>0.249292</td>\n",
       "      <td>0.410383</td>\n",
       "      <td>0.755551</td>\n",
       "      <td>0.228798</td>\n",
       "      <td>0.0769799</td>\n",
       "    </tr>\n",
       "    <tr>\n",
       "      <th>text</th>\n",
       "      <td>gcccbbggefbefcbfdg  cfgd b aa ad caada  dgebb...</td>\n",
       "      <td>cga eefdbd facagf  dagcegbbbgdaegfb cfagac egf...</td>\n",
       "      <td>dgbdcag e becfabdb geacec eec acbbedaebg  bffa...</td>\n",
       "      <td>dbe bef  fffg a fbdaf gagafgbbc ffafcgf fabdg ...</td>\n",
       "      <td>dcaafbfg  ffbeagfgf ggaaeccggbddaeggad fbebabc...</td>\n",
       "      <td>ebgbeeebc gcbfbe caefb  fbaf adabdagbec cgdaa ...</td>\n",
       "      <td>fdc gcgcbad gbcec abbababc  eddcbfdgdagd  f de...</td>\n",
       "      <td>cabddgabaccafgeffgccffdcf gecbabfcg bagc  gcc ...</td>\n",
       "      <td>bbcbf bf ddddfcg gaedff aeefcgdcgedegcg acgfbd...</td>\n",
       "      <td>bagfaa ccgf ddf dcf  cdfaaccggfdecdadfbggbgge...</td>\n",
       "      <td>faddfcaefc  adefagdgdcabcdacccc cafaaegdgcbffc...</td>\n",
       "      <td>gefcccfdgb baedbcaaeed gbbadegafcdgbdecegbdd d...</td>\n",
       "      <td>ac  bg affffcfeg cbbfbadeaccfgg eaaccfgeedddef...</td>\n",
       "      <td>fdc  g ecaebacfcbdf bba  cabbga ba degfegb bcf...</td>\n",
       "      <td>fadcgc cbeafceddbcgaebeceddcecgfaaa bac fbf af...</td>\n",
       "      <td>geabedadeeg ddaedb  bb ddebb g cfd ff c  afacf...</td>\n",
       "      <td>cdaecdedgebdeadb abfe fegb aebfcadb c cdcdffab...</td>\n",
       "      <td>abdcddb eadadeggcgeg gafggf ebbcd cb aagfeaaga...</td>\n",
       "      <td>eebbdbcgg ffeg fgddea cgfgceegca abcedbeebebff...</td>\n",
       "      <td>fgbgeagggdd bbecbea ffdaaedbfcabebaefcgabcf fg...</td>\n",
       "      <td>fafbfbcdgbe decbecggba dfa eccb fcafcaa fdf ff...</td>\n",
       "      <td>bacagccgcbaba dfdffa bcdeeggdcgd b dgggcb cbb ...</td>\n",
       "      <td>cd gebbdacacdefdgdbebedadddaccfcaegeafa fbf ac...</td>\n",
       "      <td>aa ge f gfegaff efgbaddfcdagbadf  b c bd   deg...</td>\n",
       "      <td>bcbc g feeg  bfcbcgcbea efga fbfdebbefg efc cg...</td>\n",
       "      <td>caffcgeb aefdgadccgbbebggcbgebgd bffcgadbggg c...</td>\n",
       "      <td>gabgffe db bb  df faaccadf bgdf fabddbdbgc fdf...</td>\n",
       "      <td>cggcf debcf ce a egdaa fe bgede da ddfcg aafa ...</td>\n",
       "      <td>gbagbb cceaebfeeggaffcaagfecfdecdebefddebfb b...</td>\n",
       "      <td>aecge gdbfacabd ccfaaggafccaabdbdfa d ggb c g ...</td>\n",
       "      <td>g eegcbgfeaadbaegecd  gceacgef  dabdgedade dge...</td>\n",
       "      <td>fa dc b eaba bedff e fgdcadccfgc egcdddb gafbe...</td>\n",
       "      <td>fgg degffgb g  efc db fcefaf ddgbgefdd fbd cba...</td>\n",
       "      <td>dacfaaeafgf a be gfacbag cbagbdg cebaegccg a a...</td>\n",
       "      <td>bdcg da cdaceedeedg ce bfbgedbfebagefcfe deacf...</td>\n",
       "      <td>g aeccd  g dgeeae geebgad b gbe aabg ga deagba...</td>\n",
       "      <td>dbcgbebfcffc bbfgefec agfbdegb dc gfffdb bda f...</td>\n",
       "      <td>ace dgfgb dgacegdgecacdgcc cfdge efageb deaec...</td>\n",
       "      <td>bb geeafad  eccbdfeacbgfefbefgfbbfgacffb gegfa...</td>\n",
       "      <td>ec gaebacb cadgecccbagegd  fffbbgabaeaebeedfdc...</td>\n",
       "      <td>cddc dfg  faad bdefabeec eeae  dbaefadcdd facd...</td>\n",
       "      <td>fceefc   dabcfeafecbcge facdeeecbeadfffedf  af...</td>\n",
       "      <td>fdf agb gb eeaf daefgafcb  gg deaebdceaedgf ga...</td>\n",
       "      <td>fggadfdccfede bbd aabgdfcaagaadcbgegacabfeeg f...</td>\n",
       "      <td>ggabg  e dffcdadbgcgfdfffdaadgd dbcg f fgebgeb...</td>\n",
       "      <td>baaeefbe cbggffgged geddggadcdceagddfafbfcgag...</td>\n",
       "      <td>aff ccggdabbcgfecdcefgbagbgad  adg bg dacgagb...</td>\n",
       "      <td>egaeeabedcbdbfcacbbeeagbcbdegcbfafcfbdgb  c fd...</td>\n",
       "      <td>fagbgdb aebcdgf afeec ddfebaad geegfaecbceccbg...</td>\n",
       "      <td>badecffebaa dcaebf bceebbaadcceeef ggceefeffa...</td>\n",
       "      <td>gcbaffe dbab caacabe  fgb gbdg b edgg aa b bfd...</td>\n",
       "      <td>db  efcbfgaddccggafcbf  gecebcafeg c c ebba  e...</td>\n",
       "      <td>feae gfcgfec beeeb ge cf gg  fcagd ebdbbgcebaa...</td>\n",
       "      <td>ggdfdfdefeddg agdfac ddddab cabceg dffegfgfeg ...</td>\n",
       "      <td>gaddfdfdbegdgdbgfcdbageabg da cdd aeeaac ec cd...</td>\n",
       "      <td>gdcfceeadgcdgfddadfggcfgbecfef ggbdcagcebaacec...</td>\n",
       "      <td>ecaaffdg caeeaegc cecefeacccaa ecfeggdbff g cg...</td>\n",
       "      <td>dadef fd decfcccffedd gbfbccccg adgece  gbfd b...</td>\n",
       "      <td>ffaaefgebgdbg b gcddcdfabagafcdbgcacagabfef fc...</td>\n",
       "      <td>fegfgddaf g fgdbe cffdcacdfcbggbeggbccbdb dedf...</td>\n",
       "      <td>b  cfcedgedcbb caggbdgadgabcgbcfecbfbaeedcggcc...</td>\n",
       "      <td>a cfaabdbcef gdedegbadbc bbacgebcgdccee dfg...</td>\n",
       "      <td>aaddbaeeccca fa g cggbg ffdaffag cegcbdfccaddc...</td>\n",
       "      <td>da  aagddccdaeeggecdcbefcae ddfgddggaggg ffaad...</td>\n",
       "      <td>fagbaaeb ebbefafdeacgedcd bcddaffefcge afefde...</td>\n",
       "      <td>gf ddgfacbfbf ffgedededdcdbbgeebagg bgbceg feg...</td>\n",
       "      <td>afbddbbbafbfabc cb adaef  ga dcfeedafgacdaggdg...</td>\n",
       "      <td>fcfdaeccfd  gfbcfggccfbcf edgbafag eacaaff bg ...</td>\n",
       "      <td>fbegdc gddcabbe ddcag gacege agbbcabbgge acf  ...</td>\n",
       "      <td>gfgbfeggedgabdabca a cdeaedgdfcacbg dedfe gb d...</td>\n",
       "      <td>dbebdg bgdgdface gefbgbagdebeg abdgdfbe  cfgfg...</td>\n",
       "      <td>bf bdbbgebdgebebg ecbeadddfbfgfdffdebgdcega ge...</td>\n",
       "      <td>agadebcbbeaaf abddadbge bdedcccgdbcabbbef  e g...</td>\n",
       "      <td>fffaagegffd dcccfdaggegg cbcfe agcegcbb fgeaeg...</td>\n",
       "      <td>gccaddbb ddcedb cb b b egeeecaebgaf  aagffgd c...</td>\n",
       "      <td>cfbf cgdbadgcbe ffgcgffbd c bgdd dcdgegb    da...</td>\n",
       "      <td>aga ebdf fagbegeca cebafgc fag fbfc ad becefdb...</td>\n",
       "      <td>de b agfc gagffgcegdcbfgb cfdfggcecegebfdeaeb...</td>\n",
       "      <td>dddfg bdacedfbb  f bggaacgf  deaabdgbcgggbded...</td>\n",
       "      <td>egabcd geffcedbaga  bafb abdccg g gbfaagcfbeda...</td>\n",
       "      <td>deaaa dg c  fbeefcdbgbg e d bddbb adcff dcd a...</td>\n",
       "      <td>cegffacfc fg cbdegfd fbgffgcbbfbgceagccbacfgab...</td>\n",
       "      <td>e cebae fbdaaba ag c b dgbcfd dfdfcbecf  dc ge...</td>\n",
       "      <td>fee dad   dc efaagecebedcfg fgddggegde agfdcag...</td>\n",
       "      <td>e fde fegda dcfbbegffa g cfac cdbdacbdgbccbbfa...</td>\n",
       "      <td>bafbbcdbgebgcafc gece abbffgadcfag  gbgdggaf...</td>\n",
       "      <td>fagdedgdcebda gabefdffggeeeafeabegacdeabg caff...</td>\n",
       "      <td>afa e afc bbgdccddfbfaaf daafbced cdfegggccgdf...</td>\n",
       "      <td>dbgeafebcfdebdefbccca bfeaedgg dccddfdeegbg bg...</td>\n",
       "      <td>bebcbcabadaeec beafe edgefb a ed gcbcdfcebdfbb...</td>\n",
       "      <td>eegcgb ddccfg ecbagabfbe ebaacae cb e f bbgef...</td>\n",
       "      <td>bgd gdef fccadfgagc cd edgabdgbe aabcefdced e ...</td>\n",
       "      <td>aadgbebecgagaeafc gfbgdadgbgbgacdacgedafcg bgd...</td>\n",
       "      <td>f bf ecaefb g caaebcbefbcgaffgcff ddacea acc  ...</td>\n",
       "      <td>fbebcfa bcacbaecbfebacbf bcbaebfbggaaggeagcada...</td>\n",
       "      <td>egee eecbabdfcdagfefdfbcbaeecf debgbaedbdbgdeg...</td>\n",
       "      <td>egcddf bcbeaeeadf c f bgecf dbbafebefcaga aeeg...</td>\n",
       "      <td>b dfefbcgc bf ddcgedagaafae acb ea  bb dbd fgg...</td>\n",
       "      <td>cbbg cc abbabfffg c dbgeeef gc cgf adffaceeega...</td>\n",
       "      <td>ac bc  g dgdbg cggffabcgeeeeab ddabececcc fegb...</td>\n",
       "    </tr>\n",
       "  </tbody>\n",
       "</table>\n",
       "</div>"
      ],
      "text/plain": [
       "                                                      0  \\\n",
       "col1                                              1e-10   \n",
       "text   gcccbbggefbefcbfdg  cfgd b aa ad caada  dgebb...   \n",
       "\n",
       "                                                      1  \\\n",
       "col1                                            0.96991   \n",
       "text  cga eefdbd facagf  dagcegbbbgdaegfb cfagac egf...   \n",
       "\n",
       "                                                      2  \\\n",
       "col1                                           0.832443   \n",
       "text  dgbdcag e becfabdb geacec eec acbbedaebg  bffa...   \n",
       "\n",
       "                                                      3  \\\n",
       "col1                                           0.212339   \n",
       "text  dbe bef  fffg a fbdaf gagafgbbc ffafcgf fabdg ...   \n",
       "\n",
       "                                                      4  \\\n",
       "col1                                           0.181825   \n",
       "text  dcaafbfg  ffbeagfgf ggaaeccggbddaeggad fbebabc...   \n",
       "\n",
       "                                                      5  \\\n",
       "col1                                           0.183405   \n",
       "text  ebgbeeebc gcbfbe caefb  fbaf adabdagbec cgdaa ...   \n",
       "\n",
       "                                                      6  \\\n",
       "col1                                           0.304242   \n",
       "text  fdc gcgcbad gbcec abbababc  eddcbfdgdagd  f de...   \n",
       "\n",
       "                                                      7  \\\n",
       "col1                                           0.524756   \n",
       "text  cabddgabaccafgeffgccffdcf gecbabfcg bagc  gcc ...   \n",
       "\n",
       "                                                      8  \\\n",
       "col1                                           0.431945   \n",
       "text  bbcbf bf ddddfcg gaedff aeefcgdcgedegcg acgfbd...   \n",
       "\n",
       "                                                      9  \\\n",
       "col1                                           0.291229   \n",
       "text   bagfaa ccgf ddf dcf  cdfaaccggfdecdadfbggbgge...   \n",
       "\n",
       "                                                     10  \\\n",
       "col1                                           0.611853   \n",
       "text  faddfcaefc  adefagdgdcabcdacccc cafaaegdgcbffc...   \n",
       "\n",
       "                                                     11  \\\n",
       "col1                                           0.139494   \n",
       "text  gefcccfdgb baedbcaaeed gbbadegafcdgbdecegbdd d...   \n",
       "\n",
       "                                                     12  \\\n",
       "col1                                           0.292145   \n",
       "text  ac  bg affffcfeg cbbfbadeaccfgg eaaccfgeedddef...   \n",
       "\n",
       "                                                     13  \\\n",
       "col1                                           0.366362   \n",
       "text  fdc  g ecaebacfcbdf bba  cabbga ba degfegb bcf...   \n",
       "\n",
       "                                                     14  \\\n",
       "col1                                            0.45607   \n",
       "text  fadcgc cbeafceddbcgaebeceddcecgfaaa bac fbf af...   \n",
       "\n",
       "                                                     15  \\\n",
       "col1                                           0.785176   \n",
       "text  geabedadeeg ddaedb  bb ddebb g cfd ff c  afacf...   \n",
       "\n",
       "                                                     16  \\\n",
       "col1                                           0.199674   \n",
       "text  cdaecdedgebdeadb abfe fegb aebfcadb c cdcdffab...   \n",
       "\n",
       "                                                     17  \\\n",
       "col1                                           0.514234   \n",
       "text  abdcddb eadadeggcgeg gafggf ebbcd cb aagfeaaga...   \n",
       "\n",
       "                                                     18  \\\n",
       "col1                                           0.592415   \n",
       "text  eebbdbcgg ffeg fgddea cgfgceegca abcedbeebebff...   \n",
       "\n",
       "                                                     19  \\\n",
       "col1                                          0.0464504   \n",
       "text  fgbgeagggdd bbecbea ffdaaedbfcabebaefcgabcf fg...   \n",
       "\n",
       "                                                     20  \\\n",
       "col1                                           0.607545   \n",
       "text  fafbfbcdgbe decbecggba dfa eccb fcafcaa fdf ff...   \n",
       "\n",
       "                                                     21  \\\n",
       "col1                                           0.170524   \n",
       "text  bacagccgcbaba dfdffa bcdeeggdcgd b dgggcb cbb ...   \n",
       "\n",
       "                                                     22  \\\n",
       "col1                                          0.0650516   \n",
       "text  cd gebbdacacdefdgdbebedadddaccfcaegeafa fbf ac...   \n",
       "\n",
       "                                                     23  \\\n",
       "col1                                           0.948886   \n",
       "text  aa ge f gfegaff efgbaddfcdagbadf  b c bd   deg...   \n",
       "\n",
       "                                                     24  \\\n",
       "col1                                           0.965632   \n",
       "text  bcbc g feeg  bfcbcgcbea efga fbfdebbefg efc cg...   \n",
       "\n",
       "                                                     25  \\\n",
       "col1                                           0.808397   \n",
       "text  caffcgeb aefdgadccgbbebggcbgebgd bffcgadbggg c...   \n",
       "\n",
       "                                                     26  \\\n",
       "col1                                           0.304614   \n",
       "text  gabgffe db bb  df faaccadf bgdf fabddbdbgc fdf...   \n",
       "\n",
       "                                                     27  \\\n",
       "col1                                          0.0976721   \n",
       "text  cggcf debcf ce a egdaa fe bgede da ddfcg aafa ...   \n",
       "\n",
       "                                                     28  \\\n",
       "col1                                           0.684233   \n",
       "text   gbagbb cceaebfeeggaffcaagfecfdecdebefddebfb b...   \n",
       "\n",
       "                                                     29  \\\n",
       "col1                                           0.440152   \n",
       "text  aecge gdbfacabd ccfaaggafccaabdbdfa d ggb c g ...   \n",
       "\n",
       "                                                     30  \\\n",
       "col1                                           0.122038   \n",
       "text  g eegcbgfeaadbaegecd  gceacgef  dabdgedade dge...   \n",
       "\n",
       "                                                     31  \\\n",
       "col1                                           0.495177   \n",
       "text  fa dc b eaba bedff e fgdcadccfgc egcdddb gafbe...   \n",
       "\n",
       "                                                     32  \\\n",
       "col1                                          0.0343885   \n",
       "text  fgg degffgb g  efc db fcefaf ddgbgefdd fbd cba...   \n",
       "\n",
       "                                                     33  \\\n",
       "col1                                            0.90932   \n",
       "text  dacfaaeafgf a be gfacbag cbagbdg cebaegccg a a...   \n",
       "\n",
       "                                                     34  \\\n",
       "col1                                            0.25878   \n",
       "text  bdcg da cdaceedeedg ce bfbgedbfebagefcfe deacf...   \n",
       "\n",
       "                                                     35  \\\n",
       "col1                                           0.662522   \n",
       "text  g aeccd  g dgeeae geebgad b gbe aabg ga deagba...   \n",
       "\n",
       "                                                     36  \\\n",
       "col1                                           0.311711   \n",
       "text  dbcgbebfcffc bbfgefec agfbdegb dc gfffdb bda f...   \n",
       "\n",
       "                                                     37  \\\n",
       "col1                                           0.520068   \n",
       "text   ace dgfgb dgacegdgecacdgcc cfdge efageb deaec...   \n",
       "\n",
       "                                                     38  \\\n",
       "col1                                            0.54671   \n",
       "text  bb geeafad  eccbdfeacbgfefbefgfbbfgacffb gegfa...   \n",
       "\n",
       "                                                     39  \\\n",
       "col1                                           0.184854   \n",
       "text  ec gaebacb cadgecccbagegd  fffbbgabaeaebeedfdc...   \n",
       "\n",
       "                                                     40  \\\n",
       "col1                                           0.969585   \n",
       "text  cddc dfg  faad bdefabeec eeae  dbaefadcdd facd...   \n",
       "\n",
       "                                                     41  \\\n",
       "col1                                           0.775133   \n",
       "text  fceefc   dabcfeafecbcge facdeeecbeadfffedf  af...   \n",
       "\n",
       "                                                     42  \\\n",
       "col1                                           0.939499   \n",
       "text  fdf agb gb eeaf daefgafcb  gg deaebdceaedgf ga...   \n",
       "\n",
       "                                                     43  \\\n",
       "col1                                           0.894827   \n",
       "text  fggadfdccfede bbd aabgdfcaagaadcbgegacabfeeg f...   \n",
       "\n",
       "                                                     44  \\\n",
       "col1                                             0.5979   \n",
       "text  ggabg  e dffcdadbgcgfdfffdaadgd dbcg f fgebgeb...   \n",
       "\n",
       "                                                     45  \\\n",
       "col1                                           0.921874   \n",
       "text   baaeefbe cbggffgged geddggadcdceagddfafbfcgag...   \n",
       "\n",
       "                                                     46  \\\n",
       "col1                                          0.0884925   \n",
       "text   aff ccggdabbcgfecdcefgbagbgad  adg bg dacgagb...   \n",
       "\n",
       "                                                     47  \\\n",
       "col1                                           0.195983   \n",
       "text  egaeeabedcbdbfcacbbeeagbcbdegcbfafcfbdgb  c fd...   \n",
       "\n",
       "                                                     48  \\\n",
       "col1                                          0.0452273   \n",
       "text  fagbgdb aebcdgf afeec ddfebaad geegfaecbceccbg...   \n",
       "\n",
       "                                                     49  \\\n",
       "col1                                            0.32533   \n",
       "text   badecffebaa dcaebf bceebbaadcceeef ggceefeffa...   \n",
       "\n",
       "                                                     50  \\\n",
       "col1                                           0.388677   \n",
       "text  gcbaffe dbab caacabe  fgb gbdg b edgg aa b bfd...   \n",
       "\n",
       "                                                     51  \\\n",
       "col1                                           0.271349   \n",
       "text  db  efcbfgaddccggafcbf  gecebcafeg c c ebba  e...   \n",
       "\n",
       "                                                     52  \\\n",
       "col1                                           0.828738   \n",
       "text  feae gfcgfec beeeb ge cf gg  fcagd ebdbbgcebaa...   \n",
       "\n",
       "                                                     53  \\\n",
       "col1                                           0.356753   \n",
       "text  ggdfdfdefeddg agdfac ddddab cabceg dffegfgfeg ...   \n",
       "\n",
       "                                                     54  \\\n",
       "col1                                           0.280935   \n",
       "text  gaddfdfdbegdgdbgfcdbageabg da cdd aeeaac ec cd...   \n",
       "\n",
       "                                                     55  \\\n",
       "col1                                           0.542696   \n",
       "text  gdcfceeadgcdgfddadfggcfgbecfef ggbdcagcebaacec...   \n",
       "\n",
       "                                                     56  \\\n",
       "col1                                           0.140924   \n",
       "text  ecaaffdg caeeaegc cecefeacccaa ecfeggdbff g cg...   \n",
       "\n",
       "                                                     57  \\\n",
       "col1                                           0.802197   \n",
       "text  dadef fd decfcccffedd gbfbccccg adgece  gbfd b...   \n",
       "\n",
       "                                                     58  \\\n",
       "col1                                          0.0745506   \n",
       "text  ffaaefgebgdbg b gcddcdfabagafcdbgcacagabfef fc...   \n",
       "\n",
       "                                                     59  \\\n",
       "col1                                           0.986887   \n",
       "text  fegfgddaf g fgdbe cffdcacdfcbggbeggbccbdb dedf...   \n",
       "\n",
       "                                                     60  \\\n",
       "col1                                           0.772245   \n",
       "text  b  cfcedgedcbb caggbdgadgabcgbcfecbfbaeedcggcc...   \n",
       "\n",
       "                                                     61  \\\n",
       "col1                                           0.198716   \n",
       "text     a cfaabdbcef gdedegbadbc bbacgebcgdccee dfg...   \n",
       "\n",
       "                                                     62  \\\n",
       "col1                                         0.00552212   \n",
       "text  aaddbaeeccca fa g cggbg ffdaffag cegcbdfccaddc...   \n",
       "\n",
       "                                                     63  \\\n",
       "col1                                           0.815461   \n",
       "text  da  aagddccdaeeggecdcbefcae ddfgddggaggg ffaad...   \n",
       "\n",
       "                                                     64  \\\n",
       "col1                                           0.706857   \n",
       "text   fagbaaeb ebbefafdeacgedcd bcddaffefcge afefde...   \n",
       "\n",
       "                                                     65  \\\n",
       "col1                                           0.729007   \n",
       "text  gf ddgfacbfbf ffgedededdcdbbgeebagg bgbceg feg...   \n",
       "\n",
       "                                                     66  \\\n",
       "col1                                            0.77127   \n",
       "text  afbddbbbafbfabc cb adaef  ga dcfeedafgacdaggdg...   \n",
       "\n",
       "                                                     67  \\\n",
       "col1                                          0.0740447   \n",
       "text  fcfdaeccfd  gfbcfggccfbcf edgbafag eacaaff bg ...   \n",
       "\n",
       "                                                     68  \\\n",
       "col1                                           0.358466   \n",
       "text  fbegdc gddcabbe ddcag gacege agbbcabbgge acf  ...   \n",
       "\n",
       "                                                     69  \\\n",
       "col1                                           0.115869   \n",
       "text  gfgbfeggedgabdabca a cdeaedgdfcacbg dedfe gb d...   \n",
       "\n",
       "                                                     70  \\\n",
       "col1                                           0.863103   \n",
       "text  dbebdg bgdgdface gefbgbagdebeg abdgdfbe  cfgfg...   \n",
       "\n",
       "                                                     71  \\\n",
       "col1                                           0.623298   \n",
       "text  bf bdbbgebdgebebg ecbeadddfbfgfdffdebgdcega ge...   \n",
       "\n",
       "                                                     72  \\\n",
       "col1                                           0.330898   \n",
       "text  agadebcbbeaaf abddadbge bdedcccgdbcabbbef  e g...   \n",
       "\n",
       "                                                     73  \\\n",
       "col1                                          0.0635584   \n",
       "text  fffaagegffd dcccfdaggegg cbcfe agcegcbb fgeaeg...   \n",
       "\n",
       "                                                     74  \\\n",
       "col1                                           0.310982   \n",
       "text  gccaddbb ddcedb cb b b egeeecaebgaf  aagffgd c...   \n",
       "\n",
       "                                                     75  \\\n",
       "col1                                           0.325183   \n",
       "text  cfbf cgdbadgcbe ffgcgffbd c bgdd dcdgegb    da...   \n",
       "\n",
       "                                                     76  \\\n",
       "col1                                           0.729606   \n",
       "text  aga ebdf fagbegeca cebafgc fag fbfc ad becefdb...   \n",
       "\n",
       "                                                     77  \\\n",
       "col1                                           0.637557   \n",
       "text   de b agfc gagffgcegdcbfgb cfdfggcecegebfdeaeb...   \n",
       "\n",
       "                                                     78  \\\n",
       "col1                                           0.887213   \n",
       "text   dddfg bdacedfbb  f bggaacgf  deaabdgbcgggbded...   \n",
       "\n",
       "                                                     79  \\\n",
       "col1                                           0.472215   \n",
       "text  egabcd geffcedbaga  bafb abdccg g gbfaagcfbeda...   \n",
       "\n",
       "                                                     80  \\\n",
       "col1                                           0.119594   \n",
       "text   deaaa dg c  fbeefcdbgbg e d bddbb adcff dcd a...   \n",
       "\n",
       "                                                     81  \\\n",
       "col1                                           0.713245   \n",
       "text  cegffacfc fg cbdegfd fbgffgcbbfbgceagccbacfgab...   \n",
       "\n",
       "                                                     82  \\\n",
       "col1                                           0.760785   \n",
       "text  e cebae fbdaaba ag c b dgbcfd dfdfcbecf  dc ge...   \n",
       "\n",
       "                                                     83  \\\n",
       "col1                                           0.561277   \n",
       "text  fee dad   dc efaagecebedcfg fgddggegde agfdcag...   \n",
       "\n",
       "                                                     84  \\\n",
       "col1                                           0.770967   \n",
       "text  e fde fegda dcfbbegffa g cfac cdbdacbdgbccbbfa...   \n",
       "\n",
       "                                                     85  \\\n",
       "col1                                           0.493796   \n",
       "text    bafbbcdbgebgcafc gece abbffgadcfag  gbgdggaf...   \n",
       "\n",
       "                                                     86  \\\n",
       "col1                                           0.522733   \n",
       "text  fagdedgdcebda gabefdffggeeeafeabegacdeabg caff...   \n",
       "\n",
       "                                                     87  \\\n",
       "col1                                           0.427541   \n",
       "text  afa e afc bbgdccddfbfaaf daafbced cdfegggccgdf...   \n",
       "\n",
       "                                                     88  \\\n",
       "col1                                          0.0254191   \n",
       "text  dbgeafebcfdebdefbccca bfeaedgg dccddfdeegbg bg...   \n",
       "\n",
       "                                                     89  \\\n",
       "col1                                           0.107891   \n",
       "text  bebcbcabadaeec beafe edgefb a ed gcbcdfcebdfbb...   \n",
       "\n",
       "                                                     90  \\\n",
       "col1                                          0.0314292   \n",
       "text   eegcgb ddccfg ecbagabfbe ebaacae cb e f bbgef...   \n",
       "\n",
       "                                                     91  \\\n",
       "col1                                            0.63641   \n",
       "text  bgd gdef fccadfgagc cd edgabdgbe aabcefdced e ...   \n",
       "\n",
       "                                                     92  \\\n",
       "col1                                           0.314356   \n",
       "text  aadgbebecgagaeafc gfbgdadgbgbgacdacgedafcg bgd...   \n",
       "\n",
       "                                                     93  \\\n",
       "col1                                           0.508571   \n",
       "text  f bf ecaefb g caaebcbefbcgaffgcff ddacea acc  ...   \n",
       "\n",
       "                                                     94  \\\n",
       "col1                                           0.907566   \n",
       "text  fbebcfa bcacbaecbfebacbf bcbaebfbggaaggeagcada...   \n",
       "\n",
       "                                                     95  \\\n",
       "col1                                           0.249292   \n",
       "text  egee eecbabdfcdagfefdfbcbaeecf debgbaedbdbgdeg...   \n",
       "\n",
       "                                                     96  \\\n",
       "col1                                           0.410383   \n",
       "text  egcddf bcbeaeeadf c f bgecf dbbafebefcaga aeeg...   \n",
       "\n",
       "                                                     97  \\\n",
       "col1                                           0.755551   \n",
       "text  b dfefbcgc bf ddcgedagaafae acb ea  bb dbd fgg...   \n",
       "\n",
       "                                                     98  \\\n",
       "col1                                           0.228798   \n",
       "text  cbbg cc abbabfffg c dbgeeef gc cgf adffaceeega...   \n",
       "\n",
       "                                                     99  \n",
       "col1                                          0.0769799  \n",
       "text  ac bc  g dgdbg cggffabcgeeeeab ddabececcc fegb...  "
      ]
     },
     "execution_count": 68,
     "metadata": {},
     "output_type": "execute_result"
    }
   ],
   "source": [
    "# set max cols = 100\n",
    "pd.set_option(\"display.max_columns\", 100)\n",
    "df.T"
   ]
  },
  {
   "cell_type": "markdown",
   "metadata": {},
   "source": [
    "### expand column width"
   ]
  },
  {
   "cell_type": "code",
   "execution_count": 69,
   "metadata": {},
   "outputs": [
    {
     "data": {
      "text/html": [
       "<div>\n",
       "<style scoped>\n",
       "    .dataframe tbody tr th:only-of-type {\n",
       "        vertical-align: middle;\n",
       "    }\n",
       "\n",
       "    .dataframe tbody tr th {\n",
       "        vertical-align: top;\n",
       "    }\n",
       "\n",
       "    .dataframe thead th {\n",
       "        text-align: right;\n",
       "    }\n",
       "</style>\n",
       "<table border=\"1\" class=\"dataframe\">\n",
       "  <thead>\n",
       "    <tr style=\"text-align: right;\">\n",
       "      <th></th>\n",
       "      <th>col1</th>\n",
       "      <th>text</th>\n",
       "    </tr>\n",
       "  </thead>\n",
       "  <tbody>\n",
       "    <tr>\n",
       "      <th>0</th>\n",
       "      <td>1.000000e-10</td>\n",
       "      <td>gcccbbggefbefcbfdg  cfgd b aa ad caada  dgebb dfbaca afee gdecag aeebdfa baggcc bffff cgg adcb ccdgbggbcbe  beb  fedead dgebade gdcfdaadbceddb gee bcabe aaeefcacddag bf agafddg aggeagbfbgfgb bd  g d</td>\n",
       "    </tr>\n",
       "    <tr>\n",
       "      <th>1</th>\n",
       "      <td>9.699099e-01</td>\n",
       "      <td>cga eefdbd facagf  dagcegbbbgdaegfb cfagac egffdbg daecdebffcfffc gcb agbeg gcadcfae dfdagad gdeabdbeebdeaagfd dgdegcegededebdbafa defbfaf fe decgggc ae eb agacad eedb gac afdfec eafececcfbcaaegebdbfe</td>\n",
       "    </tr>\n",
       "    <tr>\n",
       "      <th>2</th>\n",
       "      <td>8.324426e-01</td>\n",
       "      <td>dgbdcag e becfabdb geacec eec acbbedaebg  bffafggcfbf ddgadbaaaccdddbcbee f bdbfb fecbedfgcaaeffebeg  cfeefef g ffe  acaggag gd afcdfcacfacbc eag bgeaeagba fgbcedgccaebcdedgd feecbcagaacdddcdb cdgc ge</td>\n",
       "    </tr>\n",
       "    <tr>\n",
       "      <th>3</th>\n",
       "      <td>2.123391e-01</td>\n",
       "      <td>dbe bef  fffg a fbdaf gagafgbbc ffafcgf fabdg gaf bcbbbcgggd ffbgabgaa dfdcgdgacdgbf fedcbgddcgaaaffc gggbfacfefaacgg  g gac adbegfedg aaf gcbfcdfedec bbcfgegcbcaafedeagc ggceggffcbddedadbd dfabdgbfbc</td>\n",
       "    </tr>\n",
       "    <tr>\n",
       "      <th>4</th>\n",
       "      <td>1.818250e-01</td>\n",
       "      <td>dcaafbfg  ffbeagfgf ggaaeccggbddaeggad fbebabcadfagdgfcegcd afafece fbedaf bgeaadegcag cbdg ac cgffccf dfggeg bbd cfaeebgbbbd  ggfgbfccgbbg   ga babgaeead cgefeadbgageabdcbbadface fagefafdgebccedcdcg</td>\n",
       "    </tr>\n",
       "    <tr>\n",
       "      <th>...</th>\n",
       "      <td>...</td>\n",
       "      <td>...</td>\n",
       "    </tr>\n",
       "    <tr>\n",
       "      <th>95</th>\n",
       "      <td>2.492922e-01</td>\n",
       "      <td>egee eecbabdfcdagfefdfbcbaeecf debgbaedbdbgdegaebbegeafbfcgadggbggcffabedd bdbebfeedba ffdebceea adcggdcdfbcacbfaedbgbbdfbfacfg abffabaadaaae aagbdceadfadae ceffecgaffegabccbdc  bcefaafdeaaa bdcaedafc</td>\n",
       "    </tr>\n",
       "    <tr>\n",
       "      <th>96</th>\n",
       "      <td>4.103829e-01</td>\n",
       "      <td>egcddf bcbeaeeadf c f bgecf dbbafebefcaga aeeggggc afadgc ccagfcb edce aafbcfbdb fdacgc gcgdffggcded g ddac efgeeabacfded dbcf caeggbddg geacecaff b dcbbe  ecacdccagcebcagcgfa dgdebcafcbgcgabg b ae bf</td>\n",
       "    </tr>\n",
       "    <tr>\n",
       "      <th>97</th>\n",
       "      <td>7.555511e-01</td>\n",
       "      <td>b dfefbcgc bf ddcgedagaafae acb ea  bb dbd fgggbggbcaefgaebdfbfbbgfgecfgdbadcgbbdgcccbafc daece fa fabfbcd cbefdfgbff ga  dbgffgd cd eagdecbcebdeddgacf degd ceab acddccdcgcfccc eddd cbcgdecgfdb cfecdb</td>\n",
       "    </tr>\n",
       "    <tr>\n",
       "      <th>98</th>\n",
       "      <td>2.287982e-01</td>\n",
       "      <td>cbbg cc abbabfffg c dbgeeef gc cgf adffaceeegacbeegdbgdfdcdfgce gfgeccdbcadfb bddg ede f cae adcaa beefacf  dfgacc beb ec bbdgdb gg  b aecfeeecbgdbdbcebccbeggadfa b  afbe aecaecfa ccf aea gccaegeagbcd</td>\n",
       "    </tr>\n",
       "    <tr>\n",
       "      <th>99</th>\n",
       "      <td>7.697991e-02</td>\n",
       "      <td>ac bc  g dgdbg cggffabcgeeeeab ddabececcc fegbaea eeb   g bcgg egeafed cfad gccdeccgcdaddbceae afe dagfaafdggeffcdgfgdedfdacafbaaaafabg fbg bdaeeccfdfffda cbbbdfe  fa ecbcfagggb bfeeegbb cgagbfdfccgff</td>\n",
       "    </tr>\n",
       "  </tbody>\n",
       "</table>\n",
       "<p>100 rows × 2 columns</p>\n",
       "</div>"
      ],
      "text/plain": [
       "            col1  \\\n",
       "0   1.000000e-10   \n",
       "1   9.699099e-01   \n",
       "2   8.324426e-01   \n",
       "3   2.123391e-01   \n",
       "4   1.818250e-01   \n",
       "..           ...   \n",
       "95  2.492922e-01   \n",
       "96  4.103829e-01   \n",
       "97  7.555511e-01   \n",
       "98  2.287982e-01   \n",
       "99  7.697991e-02   \n",
       "\n",
       "                                                                                                                                                                                                        text  \n",
       "0    gcccbbggefbefcbfdg  cfgd b aa ad caada  dgebb dfbaca afee gdecag aeebdfa baggcc bffff cgg adcb ccdgbggbcbe  beb  fedead dgebade gdcfdaadbceddb gee bcabe aaeefcacddag bf agafddg aggeagbfbgfgb bd  g d   \n",
       "1   cga eefdbd facagf  dagcegbbbgdaegfb cfagac egffdbg daecdebffcfffc gcb agbeg gcadcfae dfdagad gdeabdbeebdeaagfd dgdegcegededebdbafa defbfaf fe decgggc ae eb agacad eedb gac afdfec eafececcfbcaaegebdbfe  \n",
       "2   dgbdcag e becfabdb geacec eec acbbedaebg  bffafggcfbf ddgadbaaaccdddbcbee f bdbfb fecbedfgcaaeffebeg  cfeefef g ffe  acaggag gd afcdfcacfacbc eag bgeaeagba fgbcedgccaebcdedgd feecbcagaacdddcdb cdgc ge  \n",
       "3   dbe bef  fffg a fbdaf gagafgbbc ffafcgf fabdg gaf bcbbbcgggd ffbgabgaa dfdcgdgacdgbf fedcbgddcgaaaffc gggbfacfefaacgg  g gac adbegfedg aaf gcbfcdfedec bbcfgegcbcaafedeagc ggceggffcbddedadbd dfabdgbfbc  \n",
       "4   dcaafbfg  ffbeagfgf ggaaeccggbddaeggad fbebabcadfagdgfcegcd afafece fbedaf bgeaadegcag cbdg ac cgffccf dfggeg bbd cfaeebgbbbd  ggfgbfccgbbg   ga babgaeead cgefeadbgageabdcbbadface fagefafdgebccedcdcg   \n",
       "..                                                                                                                                                                                                       ...  \n",
       "95  egee eecbabdfcdagfefdfbcbaeecf debgbaedbdbgdegaebbegeafbfcgadggbggcffabedd bdbebfeedba ffdebceea adcggdcdfbcacbfaedbgbbdfbfacfg abffabaadaaae aagbdceadfadae ceffecgaffegabccbdc  bcefaafdeaaa bdcaedafc  \n",
       "96  egcddf bcbeaeeadf c f bgecf dbbafebefcaga aeeggggc afadgc ccagfcb edce aafbcfbdb fdacgc gcgdffggcded g ddac efgeeabacfded dbcf caeggbddg geacecaff b dcbbe  ecacdccagcebcagcgfa dgdebcafcbgcgabg b ae bf  \n",
       "97  b dfefbcgc bf ddcgedagaafae acb ea  bb dbd fgggbggbcaefgaebdfbfbbgfgecfgdbadcgbbdgcccbafc daece fa fabfbcd cbefdfgbff ga  dbgffgd cd eagdecbcebdeddgacf degd ceab acddccdcgcfccc eddd cbcgdecgfdb cfecdb  \n",
       "98  cbbg cc abbabfffg c dbgeeef gc cgf adffaceeegacbeegdbgdfdcdfgce gfgeccdbcadfb bddg ede f cae adcaa beefacf  dfgacc beb ec bbdgdb gg  b aecfeeecbgdbdbcebccbeggadfa b  afbe aecaecfa ccf aea gccaegeagbcd  \n",
       "99  ac bc  g dgdbg cggffabcgeeeeab ddabececcc fegbaea eeb   g bcgg egeafed cfad gccdeccgcdaddbceae afe dagfaafdggeffcdgfgdedfdacafbaaaafabg fbg bdaeeccfdfffda cbbbdfe  fa ecbcfagggb bfeeegbb cgagbfdfccgff  \n",
       "\n",
       "[100 rows x 2 columns]"
      ]
     },
     "execution_count": 69,
     "metadata": {},
     "output_type": "execute_result"
    }
   ],
   "source": [
    "pd.set_option('max_colwidth',500)\n",
    "df"
   ]
  },
  {
   "cell_type": "markdown",
   "metadata": {},
   "source": [
    "### dataframe info\n",
    "* info option similar to describe function. good when using large datasets."
   ]
  },
  {
   "cell_type": "code",
   "execution_count": 70,
   "metadata": {},
   "outputs": [
    {
     "data": {
      "text/html": [
       "<pre>&lt;class 'pandas.core.frame.DataFrame'&gt;\n",
       "RangeIndex: 100 entries, 0 to 99\n",
       "Data columns (total 2 columns):\n",
       " #   Column  Non-Null Count  Dtype  \n",
       "---  ------  --------------  -----  \n",
       " 0   col1    100 non-null    float64\n",
       " 1   text    100 non-null    object \n",
       "dtypes: float64(1), object(1)\n",
       "memory usage: 1.7+ KB\n",
       "</pre>"
      ],
      "text/plain": [
       "<class 'pandas.core.frame.DataFrame'>\n",
       "RangeIndex: 100 entries, 0 to 99\n",
       "Data columns (total 2 columns):\n",
       " #   Column  Non-Null Count  Dtype  \n",
       "---  ------  --------------  -----  \n",
       " 0   col1    100 non-null    float64\n",
       " 1   text    100 non-null    object \n",
       "dtypes: float64(1), object(1)\n",
       "memory usage: 1.7+ KB"
      ]
     },
     "execution_count": 70,
     "metadata": {},
     "output_type": "execute_result"
    }
   ],
   "source": [
    "pd.set_option('large_repr','info')\n",
    "df"
   ]
  },
  {
   "cell_type": "markdown",
   "metadata": {},
   "source": [
    "## Pandas 1.0 features"
   ]
  },
  {
   "cell_type": "code",
   "execution_count": 71,
   "metadata": {},
   "outputs": [
    {
     "name": "stdout",
     "output_type": "stream",
     "text": [
      "pandas==1.0.3\n"
     ]
    }
   ],
   "source": [
    "import pandas as pd\n",
    "print(\"pandas==%s\" % pd.__version__)"
   ]
  },
  {
   "cell_type": "markdown",
   "metadata": {},
   "source": [
    "### dynamic window functions\n",
    "* below: calculate moving average until current number <=10"
   ]
  },
  {
   "cell_type": "code",
   "execution_count": 72,
   "metadata": {},
   "outputs": [
    {
     "data": {
      "text/html": [
       "<div>\n",
       "<style scoped>\n",
       "    .dataframe tbody tr th:only-of-type {\n",
       "        vertical-align: middle;\n",
       "    }\n",
       "\n",
       "    .dataframe tbody tr th {\n",
       "        vertical-align: top;\n",
       "    }\n",
       "\n",
       "    .dataframe thead th {\n",
       "        text-align: right;\n",
       "    }\n",
       "</style>\n",
       "<table border=\"1\" class=\"dataframe\">\n",
       "  <thead>\n",
       "    <tr style=\"text-align: right;\">\n",
       "      <th></th>\n",
       "      <th>col1</th>\n",
       "    </tr>\n",
       "  </thead>\n",
       "  <tbody>\n",
       "    <tr>\n",
       "      <th>0</th>\n",
       "      <td>1</td>\n",
       "    </tr>\n",
       "    <tr>\n",
       "      <th>1</th>\n",
       "      <td>2</td>\n",
       "    </tr>\n",
       "    <tr>\n",
       "      <th>2</th>\n",
       "      <td>3</td>\n",
       "    </tr>\n",
       "    <tr>\n",
       "      <th>3</th>\n",
       "      <td>10</td>\n",
       "    </tr>\n",
       "    <tr>\n",
       "      <th>4</th>\n",
       "      <td>2</td>\n",
       "    </tr>\n",
       "    <tr>\n",
       "      <th>5</th>\n",
       "      <td>3</td>\n",
       "    </tr>\n",
       "    <tr>\n",
       "      <th>6</th>\n",
       "      <td>11</td>\n",
       "    </tr>\n",
       "    <tr>\n",
       "      <th>7</th>\n",
       "      <td>2</td>\n",
       "    </tr>\n",
       "    <tr>\n",
       "      <th>8</th>\n",
       "      <td>3</td>\n",
       "    </tr>\n",
       "    <tr>\n",
       "      <th>9</th>\n",
       "      <td>12</td>\n",
       "    </tr>\n",
       "    <tr>\n",
       "      <th>10</th>\n",
       "      <td>1</td>\n",
       "    </tr>\n",
       "    <tr>\n",
       "      <th>11</th>\n",
       "      <td>2</td>\n",
       "    </tr>\n",
       "  </tbody>\n",
       "</table>\n",
       "</div>"
      ],
      "text/plain": [
       "    col1\n",
       "0      1\n",
       "1      2\n",
       "2      3\n",
       "3     10\n",
       "4      2\n",
       "5      3\n",
       "6     11\n",
       "7      2\n",
       "8      3\n",
       "9     12\n",
       "10     1\n",
       "11     2"
      ]
     },
     "execution_count": 72,
     "metadata": {},
     "output_type": "execute_result"
    }
   ],
   "source": [
    "df = pd.DataFrame({'col1': [1, 2, 3, 10, 2, 3, 11, 2, 3, 12, 1, 2]})\n",
    "df"
   ]
  },
  {
   "cell_type": "code",
   "execution_count": 73,
   "metadata": {},
   "outputs": [
    {
     "data": {
      "text/plain": [
       "[False,\n",
       " False,\n",
       " False,\n",
       " True,\n",
       " False,\n",
       " False,\n",
       " True,\n",
       " False,\n",
       " False,\n",
       " True,\n",
       " False,\n",
       " False]"
      ]
     },
     "execution_count": 73,
     "metadata": {},
     "output_type": "execute_result"
    }
   ],
   "source": [
    "use_expanding =  (df.col1 >= 10).tolist()\n",
    "use_expanding"
   ]
  },
  {
   "cell_type": "markdown",
   "metadata": {},
   "source": [
    "* need to design a custom indexer from pandas' BaseIndexer class\n",
    "* uses get_window_bounds function -> calcs start & end for each window"
   ]
  },
  {
   "cell_type": "code",
   "execution_count": 74,
   "metadata": {},
   "outputs": [],
   "source": [
    "from pandas.api.indexers import BaseIndexer\n",
    "\n",
    "class CustomIndexer(BaseIndexer):\n",
    "    \n",
    "    def get_window_bounds(self, num_values, min_periods, center, closed):\n",
    "        \n",
    "        start   = np.empty(num_values, dtype=np.int64)\n",
    "        end     = np.empty(num_values, dtype=np.int64)\n",
    "        start_i = 0\n",
    "        \n",
    "        for i in range(num_values):\n",
    "            if self.use_expanding[i]:\n",
    "                start[i] = start_i\n",
    "                start_i  = end[i] = i + 1\n",
    "            else:\n",
    "                start[i] = start_i\n",
    "                end[i]   = i + self.window_size\n",
    "                \n",
    "        print('start', start)\n",
    "        print('end', end)\n",
    "        return start, end\n",
    "    \n",
    "indexer = CustomIndexer(window_size=1, use_expanding=use_expanding)"
   ]
  },
  {
   "cell_type": "code",
   "execution_count": 75,
   "metadata": {},
   "outputs": [
    {
     "name": "stdout",
     "output_type": "stream",
     "text": [
      "start [ 0  0  0  0  4  4  4  7  7  7 10 10]\n",
      "end [ 1  2  3  4  5  6  7  8  9 10 11 12]\n"
     ]
    },
    {
     "data": {
      "text/html": [
       "<div>\n",
       "<style scoped>\n",
       "    .dataframe tbody tr th:only-of-type {\n",
       "        vertical-align: middle;\n",
       "    }\n",
       "\n",
       "    .dataframe tbody tr th {\n",
       "        vertical-align: top;\n",
       "    }\n",
       "\n",
       "    .dataframe thead th {\n",
       "        text-align: right;\n",
       "    }\n",
       "</style>\n",
       "<table border=\"1\" class=\"dataframe\">\n",
       "  <thead>\n",
       "    <tr style=\"text-align: right;\">\n",
       "      <th></th>\n",
       "      <th>col1</th>\n",
       "    </tr>\n",
       "  </thead>\n",
       "  <tbody>\n",
       "    <tr>\n",
       "      <th>0</th>\n",
       "      <td>1.000000</td>\n",
       "    </tr>\n",
       "    <tr>\n",
       "      <th>1</th>\n",
       "      <td>1.500000</td>\n",
       "    </tr>\n",
       "    <tr>\n",
       "      <th>2</th>\n",
       "      <td>2.000000</td>\n",
       "    </tr>\n",
       "    <tr>\n",
       "      <th>3</th>\n",
       "      <td>4.000000</td>\n",
       "    </tr>\n",
       "    <tr>\n",
       "      <th>4</th>\n",
       "      <td>2.000000</td>\n",
       "    </tr>\n",
       "    <tr>\n",
       "      <th>5</th>\n",
       "      <td>2.500000</td>\n",
       "    </tr>\n",
       "    <tr>\n",
       "      <th>6</th>\n",
       "      <td>5.333333</td>\n",
       "    </tr>\n",
       "    <tr>\n",
       "      <th>7</th>\n",
       "      <td>2.000000</td>\n",
       "    </tr>\n",
       "    <tr>\n",
       "      <th>8</th>\n",
       "      <td>2.500000</td>\n",
       "    </tr>\n",
       "    <tr>\n",
       "      <th>9</th>\n",
       "      <td>5.666667</td>\n",
       "    </tr>\n",
       "    <tr>\n",
       "      <th>10</th>\n",
       "      <td>1.000000</td>\n",
       "    </tr>\n",
       "    <tr>\n",
       "      <th>11</th>\n",
       "      <td>1.500000</td>\n",
       "    </tr>\n",
       "  </tbody>\n",
       "</table>\n",
       "</div>"
      ],
      "text/plain": [
       "        col1\n",
       "0   1.000000\n",
       "1   1.500000\n",
       "2   2.000000\n",
       "3   4.000000\n",
       "4   2.000000\n",
       "5   2.500000\n",
       "6   5.333333\n",
       "7   2.000000\n",
       "8   2.500000\n",
       "9   5.666667\n",
       "10  1.000000\n",
       "11  1.500000"
      ]
     },
     "execution_count": 75,
     "metadata": {},
     "output_type": "execute_result"
    }
   ],
   "source": [
    "# put indexer class into rolling function, find mean for each window.\n",
    "df.rolling(indexer).mean()"
   ]
  },
  {
   "cell_type": "markdown",
   "metadata": {},
   "source": [
    "### faster (via cython) rolling apply\n",
    "* pandas 1.0 allows spec'ing Numba as execution engine\n",
    "* numba has to be installed\n",
    "* first-time execution slower - numba has function compilation overhead\n",
    "* *raw* should be set to True (function will see numpy objects, not pandas series, for better performance)"
   ]
  },
  {
   "cell_type": "code",
   "execution_count": 76,
   "metadata": {},
   "outputs": [
    {
     "data": {
      "text/html": [
       "<div>\n",
       "<style scoped>\n",
       "    .dataframe tbody tr th:only-of-type {\n",
       "        vertical-align: middle;\n",
       "    }\n",
       "\n",
       "    .dataframe tbody tr th {\n",
       "        vertical-align: top;\n",
       "    }\n",
       "\n",
       "    .dataframe thead th {\n",
       "        text-align: right;\n",
       "    }\n",
       "</style>\n",
       "<table border=\"1\" class=\"dataframe\">\n",
       "  <thead>\n",
       "    <tr style=\"text-align: right;\">\n",
       "      <th></th>\n",
       "      <th>col1</th>\n",
       "    </tr>\n",
       "  </thead>\n",
       "  <tbody>\n",
       "    <tr>\n",
       "      <th>0</th>\n",
       "      <td>0</td>\n",
       "    </tr>\n",
       "    <tr>\n",
       "      <th>1</th>\n",
       "      <td>1</td>\n",
       "    </tr>\n",
       "    <tr>\n",
       "      <th>2</th>\n",
       "      <td>2</td>\n",
       "    </tr>\n",
       "    <tr>\n",
       "      <th>3</th>\n",
       "      <td>3</td>\n",
       "    </tr>\n",
       "    <tr>\n",
       "      <th>4</th>\n",
       "      <td>4</td>\n",
       "    </tr>\n",
       "  </tbody>\n",
       "</table>\n",
       "</div>"
      ],
      "text/plain": [
       "   col1\n",
       "0     0\n",
       "1     1\n",
       "2     2\n",
       "3     3\n",
       "4     4"
      ]
     },
     "execution_count": 76,
     "metadata": {},
     "output_type": "execute_result"
    }
   ],
   "source": [
    "# create DF with 1M values\n",
    "df = pd.DataFrame({\"col1\": pd.Series(range(1_000_000))})\n",
    "df.head()"
   ]
  },
  {
   "cell_type": "code",
   "execution_count": 77,
   "metadata": {},
   "outputs": [],
   "source": [
    "# function: finds sum, adds 5\n",
    "def some_function(x):\n",
    "    return np.sum(x) + 5"
   ]
  },
  {
   "cell_type": "code",
   "execution_count": 79,
   "metadata": {},
   "outputs": [
    {
     "name": "stdout",
     "output_type": "stream",
     "text": [
      "5.22 s ± 568 ms per loop (mean ± std. dev. of 7 runs, 1 loop each)\n"
     ]
    }
   ],
   "source": [
    "%%timeit\n",
    "df.col1.rolling(100).apply(some_function, engine='cython', raw=True)"
   ]
  },
  {
   "cell_type": "code",
   "execution_count": 80,
   "metadata": {},
   "outputs": [
    {
     "name": "stdout",
     "output_type": "stream",
     "text": [
      "528 ms ± 11.3 ms per loop (mean ± std. dev. of 7 runs, 1 loop each)\n"
     ]
    }
   ],
   "source": [
    "%%timeit\n",
    "df.col1.rolling(100).apply(some_function, engine='numba', raw=True)"
   ]
  },
  {
   "cell_type": "markdown",
   "metadata": {},
   "source": [
    "### new NA value - help with representing scalar missing values\n",
    "* goal = provide consistency across data types.\n",
    "* used by Int64 boolean, string"
   ]
  },
  {
   "cell_type": "code",
   "execution_count": 81,
   "metadata": {},
   "outputs": [
    {
     "data": {
      "text/plain": [
       "0       3\n",
       "1       6\n",
       "2       9\n",
       "3    <NA>\n",
       "dtype: Int64"
      ]
     },
     "execution_count": 81,
     "metadata": {},
     "output_type": "execute_result"
    }
   ],
   "source": [
    "# series of integers\n",
    "s = pd.Series([3, 6, 9, None], dtype=\"Int64\")\n",
    "s"
   ]
  },
  {
   "cell_type": "code",
   "execution_count": 82,
   "metadata": {},
   "outputs": [
    {
     "data": {
      "text/plain": [
       "<NA>"
      ]
     },
     "execution_count": 82,
     "metadata": {},
     "output_type": "execute_result"
    }
   ],
   "source": [
    "# NA==NA returns NA; np.nan==np.nan return False\n",
    "s.loc[3]==s.loc[3]"
   ]
  },
  {
   "cell_type": "code",
   "execution_count": 83,
   "metadata": {},
   "outputs": [
    {
     "data": {
      "text/plain": [
       "False"
      ]
     },
     "execution_count": 83,
     "metadata": {},
     "output_type": "execute_result"
    }
   ],
   "source": [
    "np.nan==np.nan"
   ]
  },
  {
   "cell_type": "markdown",
   "metadata": {},
   "source": [
    "### new, dedicated string type \n",
    "* prior to 1.0, strings stored as objects.\n",
    "* couldn't be sure if series (below) contains just strings or mixed with other datatypes."
   ]
  },
  {
   "cell_type": "code",
   "execution_count": 84,
   "metadata": {},
   "outputs": [
    {
     "data": {
      "text/plain": [
       "0        an\n",
       "1       ban\n",
       "2       pet\n",
       "3    podgan\n",
       "4      None\n",
       "dtype: object"
      ]
     },
     "execution_count": 84,
     "metadata": {},
     "output_type": "execute_result"
    }
   ],
   "source": [
    "s = pd.Series(['an', 'ban', 'pet', 'podgan', None]); s"
   ]
  },
  {
   "cell_type": "code",
   "execution_count": 85,
   "metadata": {},
   "outputs": [
    {
     "data": {
      "text/plain": [
       "0        an\n",
       "1       ban\n",
       "2       pet\n",
       "3    podgan\n",
       "4      <NA>\n",
       "dtype: string"
      ]
     },
     "execution_count": 85,
     "metadata": {},
     "output_type": "execute_result"
    }
   ],
   "source": [
    "s = pd.Series(['an', 'ban', 'pet', 'podgan', None], dtype='string'); s"
   ]
  },
  {
   "cell_type": "markdown",
   "metadata": {},
   "source": [
    "### ignoring index on a sorted DF\n",
    "* when you sort a DF by a certain column the index also is sorted.\n",
    "* don't always want that.\n",
    "* pandas 1.0 uses ignore index to manage it."
   ]
  },
  {
   "cell_type": "code",
   "execution_count": 86,
   "metadata": {},
   "outputs": [
    {
     "data": {
      "text/html": [
       "<div>\n",
       "<style scoped>\n",
       "    .dataframe tbody tr th:only-of-type {\n",
       "        vertical-align: middle;\n",
       "    }\n",
       "\n",
       "    .dataframe tbody tr th {\n",
       "        vertical-align: top;\n",
       "    }\n",
       "\n",
       "    .dataframe thead th {\n",
       "        text-align: right;\n",
       "    }\n",
       "</style>\n",
       "<table border=\"1\" class=\"dataframe\">\n",
       "  <thead>\n",
       "    <tr style=\"text-align: right;\">\n",
       "      <th></th>\n",
       "      <th>col1</th>\n",
       "    </tr>\n",
       "  </thead>\n",
       "  <tbody>\n",
       "    <tr>\n",
       "      <th>0</th>\n",
       "      <td>1</td>\n",
       "    </tr>\n",
       "    <tr>\n",
       "      <th>6</th>\n",
       "      <td>1</td>\n",
       "    </tr>\n",
       "    <tr>\n",
       "      <th>3</th>\n",
       "      <td>2</td>\n",
       "    </tr>\n",
       "    <tr>\n",
       "      <th>7</th>\n",
       "      <td>2</td>\n",
       "    </tr>\n",
       "    <tr>\n",
       "      <th>1</th>\n",
       "      <td>3</td>\n",
       "    </tr>\n",
       "    <tr>\n",
       "      <th>4</th>\n",
       "      <td>3</td>\n",
       "    </tr>\n",
       "    <tr>\n",
       "      <th>2</th>\n",
       "      <td>5</td>\n",
       "    </tr>\n",
       "    <tr>\n",
       "      <th>5</th>\n",
       "      <td>7</td>\n",
       "    </tr>\n",
       "  </tbody>\n",
       "</table>\n",
       "</div>"
      ],
      "text/plain": [
       "   col1\n",
       "0     1\n",
       "6     1\n",
       "3     2\n",
       "7     2\n",
       "1     3\n",
       "4     3\n",
       "2     5\n",
       "5     7"
      ]
     },
     "execution_count": 86,
     "metadata": {},
     "output_type": "execute_result"
    }
   ],
   "source": [
    "df = pd.DataFrame({\"col1\": [1, 3, 5, 2, 3, 7, 1, 2]})\n",
    "df.sort_values('col1')"
   ]
  },
  {
   "cell_type": "code",
   "execution_count": 87,
   "metadata": {},
   "outputs": [
    {
     "data": {
      "text/html": [
       "<div>\n",
       "<style scoped>\n",
       "    .dataframe tbody tr th:only-of-type {\n",
       "        vertical-align: middle;\n",
       "    }\n",
       "\n",
       "    .dataframe tbody tr th {\n",
       "        vertical-align: top;\n",
       "    }\n",
       "\n",
       "    .dataframe thead th {\n",
       "        text-align: right;\n",
       "    }\n",
       "</style>\n",
       "<table border=\"1\" class=\"dataframe\">\n",
       "  <thead>\n",
       "    <tr style=\"text-align: right;\">\n",
       "      <th></th>\n",
       "      <th>col1</th>\n",
       "    </tr>\n",
       "  </thead>\n",
       "  <tbody>\n",
       "    <tr>\n",
       "      <th>0</th>\n",
       "      <td>1</td>\n",
       "    </tr>\n",
       "    <tr>\n",
       "      <th>1</th>\n",
       "      <td>1</td>\n",
       "    </tr>\n",
       "    <tr>\n",
       "      <th>2</th>\n",
       "      <td>2</td>\n",
       "    </tr>\n",
       "    <tr>\n",
       "      <th>3</th>\n",
       "      <td>2</td>\n",
       "    </tr>\n",
       "    <tr>\n",
       "      <th>4</th>\n",
       "      <td>3</td>\n",
       "    </tr>\n",
       "    <tr>\n",
       "      <th>5</th>\n",
       "      <td>3</td>\n",
       "    </tr>\n",
       "    <tr>\n",
       "      <th>6</th>\n",
       "      <td>5</td>\n",
       "    </tr>\n",
       "    <tr>\n",
       "      <th>7</th>\n",
       "      <td>7</td>\n",
       "    </tr>\n",
       "  </tbody>\n",
       "</table>\n",
       "</div>"
      ],
      "text/plain": [
       "   col1\n",
       "0     1\n",
       "1     1\n",
       "2     2\n",
       "3     2\n",
       "4     3\n",
       "5     3\n",
       "6     5\n",
       "7     7"
      ]
     },
     "execution_count": 87,
     "metadata": {},
     "output_type": "execute_result"
    }
   ],
   "source": [
    "df.sort_values('col1', ignore_index=True)"
   ]
  },
  {
   "cell_type": "markdown",
   "metadata": {},
   "source": [
    "## TODO: [pandas live analytics server (based on Flask)](https://towardsdatascience.com/pandas-analytics-server-d9abceec888b)"
   ]
  },
  {
   "cell_type": "code",
   "execution_count": null,
   "metadata": {},
   "outputs": [],
   "source": []
  }
 ],
 "metadata": {
  "kernelspec": {
   "display_name": "Python 3",
   "language": "python",
   "name": "python3"
  },
  "language_info": {
   "codemirror_mode": {
    "name": "ipython",
    "version": 3
   },
   "file_extension": ".py",
   "mimetype": "text/x-python",
   "name": "python",
   "nbconvert_exporter": "python",
   "pygments_lexer": "ipython3",
   "version": "3.6.9"
  }
 },
 "nbformat": 4,
 "nbformat_minor": 4
}
